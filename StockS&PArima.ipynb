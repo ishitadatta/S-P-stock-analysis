{
  "nbformat": 4,
  "nbformat_minor": 0,
  "metadata": {
    "colab": {
      "name": "StockS&PArima.ipynb",
      "provenance": [],
      "collapsed_sections": [],
      "authorship_tag": "ABX9TyOg8X/J4trByNNG8IPtIWJr",
      "include_colab_link": true
    },
    "kernelspec": {
      "name": "python3",
      "display_name": "Python 3"
    }
  },
  "cells": [
    {
      "cell_type": "markdown",
      "metadata": {
        "id": "view-in-github",
        "colab_type": "text"
      },
      "source": [
        "<a href=\"https://colab.research.google.com/github/ishitadatta/S-P-stock-analysis/blob/master/StockS%26PArima.ipynb\" target=\"_parent\"><img src=\"https://colab.research.google.com/assets/colab-badge.svg\" alt=\"Open In Colab\"/></a>"
      ]
    },
    {
      "cell_type": "code",
      "metadata": {
        "id": "_gVgf-iZbIEa"
      },
      "source": [
        "#essential libraries\n",
        "import pandas as pd                   #pandas does things with matrixes\n",
        "import numpy as np                    #used for sorting a matrix\n",
        "import matplotlib.pyplot as plt       #matplotlib is used for plotting data\n",
        "import matplotlib.ticker as ticker    #used for changing tick spacing\n",
        "import datetime as dt                 #used for dates\n",
        "import matplotlib.dates as mdates     #used for dates, in a different way\n",
        "import statsmodels.api as sm\n",
        "from sklearn.metrics import mean_squared_error"
      ],
      "execution_count": 19,
      "outputs": []
    },
    {
      "cell_type": "code",
      "metadata": {
        "id": "EQRKb88xcvgo",
        "outputId": "0c5bb87a-2697-4714-85e5-5493c621ad08",
        "colab": {
          "base_uri": "https://localhost:8080/",
          "height": 384
        }
      },
      "source": [
        "!pip install statsmodels==0.12.1"
      ],
      "execution_count": 18,
      "outputs": [
        {
          "output_type": "stream",
          "text": [
            "Collecting statsmodels==0.12.1\n",
            "\u001b[?25l  Downloading https://files.pythonhosted.org/packages/be/4c/9e2435ca6645d6bafa2b51bb11f0a365b28934a2ffe9d6e339d67130926d/statsmodels-0.12.1-cp36-cp36m-manylinux1_x86_64.whl (9.5MB)\n",
            "\u001b[K     |████████████████████████████████| 9.5MB 2.7MB/s \n",
            "\u001b[?25hRequirement already satisfied: pandas>=0.21 in /usr/local/lib/python3.6/dist-packages (from statsmodels==0.12.1) (1.1.3)\n",
            "Requirement already satisfied: numpy>=1.15 in /usr/local/lib/python3.6/dist-packages (from statsmodels==0.12.1) (1.18.5)\n",
            "Requirement already satisfied: scipy>=1.1 in /usr/local/lib/python3.6/dist-packages (from statsmodels==0.12.1) (1.4.1)\n",
            "Requirement already satisfied: patsy>=0.5 in /usr/local/lib/python3.6/dist-packages (from statsmodels==0.12.1) (0.5.1)\n",
            "Requirement already satisfied: python-dateutil>=2.7.3 in /usr/local/lib/python3.6/dist-packages (from pandas>=0.21->statsmodels==0.12.1) (2.8.1)\n",
            "Requirement already satisfied: pytz>=2017.2 in /usr/local/lib/python3.6/dist-packages (from pandas>=0.21->statsmodels==0.12.1) (2018.9)\n",
            "Requirement already satisfied: six in /usr/local/lib/python3.6/dist-packages (from patsy>=0.5->statsmodels==0.12.1) (1.15.0)\n",
            "Installing collected packages: statsmodels\n",
            "  Found existing installation: statsmodels 0.10.2\n",
            "    Uninstalling statsmodels-0.10.2:\n",
            "      Successfully uninstalled statsmodels-0.10.2\n",
            "Successfully installed statsmodels-0.12.1\n"
          ],
          "name": "stdout"
        },
        {
          "output_type": "display_data",
          "data": {
            "application/vnd.colab-display-data+json": {
              "pip_warning": {
                "packages": [
                  "statsmodels"
                ]
              }
            }
          },
          "metadata": {
            "tags": []
          }
        }
      ]
    },
    {
      "cell_type": "code",
      "metadata": {
        "id": "VD3PFgV5dMIL",
        "outputId": "a0732f7d-c82d-4a01-968b-052ccb3c3f74",
        "colab": {
          "base_uri": "https://localhost:8080/",
          "height": 202
        }
      },
      "source": [
        "#importing dataset\n",
        "df1 = pd.read_csv(r\"all_stocks_5yr.csv\")\n",
        "df1.head()"
      ],
      "execution_count": 2,
      "outputs": [
        {
          "output_type": "execute_result",
          "data": {
            "text/html": [
              "<div>\n",
              "<style scoped>\n",
              "    .dataframe tbody tr th:only-of-type {\n",
              "        vertical-align: middle;\n",
              "    }\n",
              "\n",
              "    .dataframe tbody tr th {\n",
              "        vertical-align: top;\n",
              "    }\n",
              "\n",
              "    .dataframe thead th {\n",
              "        text-align: right;\n",
              "    }\n",
              "</style>\n",
              "<table border=\"1\" class=\"dataframe\">\n",
              "  <thead>\n",
              "    <tr style=\"text-align: right;\">\n",
              "      <th></th>\n",
              "      <th>date</th>\n",
              "      <th>open</th>\n",
              "      <th>high</th>\n",
              "      <th>low</th>\n",
              "      <th>close</th>\n",
              "      <th>volume</th>\n",
              "      <th>Name</th>\n",
              "    </tr>\n",
              "  </thead>\n",
              "  <tbody>\n",
              "    <tr>\n",
              "      <th>0</th>\n",
              "      <td>2013-02-08</td>\n",
              "      <td>15.07</td>\n",
              "      <td>15.12</td>\n",
              "      <td>14.63</td>\n",
              "      <td>14.75</td>\n",
              "      <td>8407500</td>\n",
              "      <td>AAL</td>\n",
              "    </tr>\n",
              "    <tr>\n",
              "      <th>1</th>\n",
              "      <td>2013-02-11</td>\n",
              "      <td>14.89</td>\n",
              "      <td>15.01</td>\n",
              "      <td>14.26</td>\n",
              "      <td>14.46</td>\n",
              "      <td>8882000</td>\n",
              "      <td>AAL</td>\n",
              "    </tr>\n",
              "    <tr>\n",
              "      <th>2</th>\n",
              "      <td>2013-02-12</td>\n",
              "      <td>14.45</td>\n",
              "      <td>14.51</td>\n",
              "      <td>14.10</td>\n",
              "      <td>14.27</td>\n",
              "      <td>8126000</td>\n",
              "      <td>AAL</td>\n",
              "    </tr>\n",
              "    <tr>\n",
              "      <th>3</th>\n",
              "      <td>2013-02-13</td>\n",
              "      <td>14.30</td>\n",
              "      <td>14.94</td>\n",
              "      <td>14.25</td>\n",
              "      <td>14.66</td>\n",
              "      <td>10259500</td>\n",
              "      <td>AAL</td>\n",
              "    </tr>\n",
              "    <tr>\n",
              "      <th>4</th>\n",
              "      <td>2013-02-14</td>\n",
              "      <td>14.94</td>\n",
              "      <td>14.96</td>\n",
              "      <td>13.16</td>\n",
              "      <td>13.99</td>\n",
              "      <td>31879900</td>\n",
              "      <td>AAL</td>\n",
              "    </tr>\n",
              "  </tbody>\n",
              "</table>\n",
              "</div>"
            ],
            "text/plain": [
              "         date   open   high    low  close    volume Name\n",
              "0  2013-02-08  15.07  15.12  14.63  14.75   8407500  AAL\n",
              "1  2013-02-11  14.89  15.01  14.26  14.46   8882000  AAL\n",
              "2  2013-02-12  14.45  14.51  14.10  14.27   8126000  AAL\n",
              "3  2013-02-13  14.30  14.94  14.25  14.66  10259500  AAL\n",
              "4  2013-02-14  14.94  14.96  13.16  13.99  31879900  AAL"
            ]
          },
          "metadata": {
            "tags": []
          },
          "execution_count": 2
        }
      ]
    },
    {
      "cell_type": "code",
      "metadata": {
        "id": "fq9u_SZ1YUB1",
        "outputId": "bf7e9cef-1da8-4da8-ef49-1265f6005ba5",
        "colab": {
          "base_uri": "https://localhost:8080/"
        }
      },
      "source": [
        "df = df1[df1['Name'] == 'AAL'] \n",
        "df.size"
      ],
      "execution_count": 3,
      "outputs": [
        {
          "output_type": "execute_result",
          "data": {
            "text/plain": [
              "8813"
            ]
          },
          "metadata": {
            "tags": []
          },
          "execution_count": 3
        }
      ]
    },
    {
      "cell_type": "code",
      "metadata": {
        "id": "joksTJ9yW5_4",
        "outputId": "2c86a848-118f-4d5b-9765-3f02c7474122",
        "colab": {
          "base_uri": "https://localhost:8080/",
          "height": 522
        }
      },
      "source": [
        "df.drop(columns=[\"open\", \"high\", \"low\", \"volume\", \"Name\"], inplace=True)\n",
        "df"
      ],
      "execution_count": 4,
      "outputs": [
        {
          "output_type": "stream",
          "text": [
            "/usr/local/lib/python3.6/dist-packages/pandas/core/frame.py:4170: SettingWithCopyWarning: \n",
            "A value is trying to be set on a copy of a slice from a DataFrame\n",
            "\n",
            "See the caveats in the documentation: https://pandas.pydata.org/pandas-docs/stable/user_guide/indexing.html#returning-a-view-versus-a-copy\n",
            "  errors=errors,\n"
          ],
          "name": "stderr"
        },
        {
          "output_type": "execute_result",
          "data": {
            "text/html": [
              "<div>\n",
              "<style scoped>\n",
              "    .dataframe tbody tr th:only-of-type {\n",
              "        vertical-align: middle;\n",
              "    }\n",
              "\n",
              "    .dataframe tbody tr th {\n",
              "        vertical-align: top;\n",
              "    }\n",
              "\n",
              "    .dataframe thead th {\n",
              "        text-align: right;\n",
              "    }\n",
              "</style>\n",
              "<table border=\"1\" class=\"dataframe\">\n",
              "  <thead>\n",
              "    <tr style=\"text-align: right;\">\n",
              "      <th></th>\n",
              "      <th>date</th>\n",
              "      <th>close</th>\n",
              "    </tr>\n",
              "  </thead>\n",
              "  <tbody>\n",
              "    <tr>\n",
              "      <th>0</th>\n",
              "      <td>2013-02-08</td>\n",
              "      <td>14.75</td>\n",
              "    </tr>\n",
              "    <tr>\n",
              "      <th>1</th>\n",
              "      <td>2013-02-11</td>\n",
              "      <td>14.46</td>\n",
              "    </tr>\n",
              "    <tr>\n",
              "      <th>2</th>\n",
              "      <td>2013-02-12</td>\n",
              "      <td>14.27</td>\n",
              "    </tr>\n",
              "    <tr>\n",
              "      <th>3</th>\n",
              "      <td>2013-02-13</td>\n",
              "      <td>14.66</td>\n",
              "    </tr>\n",
              "    <tr>\n",
              "      <th>4</th>\n",
              "      <td>2013-02-14</td>\n",
              "      <td>13.99</td>\n",
              "    </tr>\n",
              "    <tr>\n",
              "      <th>...</th>\n",
              "      <td>...</td>\n",
              "      <td>...</td>\n",
              "    </tr>\n",
              "    <tr>\n",
              "      <th>1254</th>\n",
              "      <td>2018-02-01</td>\n",
              "      <td>53.88</td>\n",
              "    </tr>\n",
              "    <tr>\n",
              "      <th>1255</th>\n",
              "      <td>2018-02-02</td>\n",
              "      <td>52.10</td>\n",
              "    </tr>\n",
              "    <tr>\n",
              "      <th>1256</th>\n",
              "      <td>2018-02-05</td>\n",
              "      <td>49.76</td>\n",
              "    </tr>\n",
              "    <tr>\n",
              "      <th>1257</th>\n",
              "      <td>2018-02-06</td>\n",
              "      <td>51.18</td>\n",
              "    </tr>\n",
              "    <tr>\n",
              "      <th>1258</th>\n",
              "      <td>2018-02-07</td>\n",
              "      <td>51.40</td>\n",
              "    </tr>\n",
              "  </tbody>\n",
              "</table>\n",
              "<p>1259 rows × 2 columns</p>\n",
              "</div>"
            ],
            "text/plain": [
              "            date  close\n",
              "0     2013-02-08  14.75\n",
              "1     2013-02-11  14.46\n",
              "2     2013-02-12  14.27\n",
              "3     2013-02-13  14.66\n",
              "4     2013-02-14  13.99\n",
              "...          ...    ...\n",
              "1254  2018-02-01  53.88\n",
              "1255  2018-02-02  52.10\n",
              "1256  2018-02-05  49.76\n",
              "1257  2018-02-06  51.18\n",
              "1258  2018-02-07  51.40\n",
              "\n",
              "[1259 rows x 2 columns]"
            ]
          },
          "metadata": {
            "tags": []
          },
          "execution_count": 4
        }
      ]
    },
    {
      "cell_type": "code",
      "metadata": {
        "id": "7M53EpQgZ6c-",
        "outputId": "6c427c5b-518d-4052-e466-73de9b9204c9",
        "colab": {
          "base_uri": "https://localhost:8080/",
          "height": 446
        }
      },
      "source": [
        "df.set_index('date', inplace=True)\n",
        "df"
      ],
      "execution_count": 5,
      "outputs": [
        {
          "output_type": "execute_result",
          "data": {
            "text/html": [
              "<div>\n",
              "<style scoped>\n",
              "    .dataframe tbody tr th:only-of-type {\n",
              "        vertical-align: middle;\n",
              "    }\n",
              "\n",
              "    .dataframe tbody tr th {\n",
              "        vertical-align: top;\n",
              "    }\n",
              "\n",
              "    .dataframe thead th {\n",
              "        text-align: right;\n",
              "    }\n",
              "</style>\n",
              "<table border=\"1\" class=\"dataframe\">\n",
              "  <thead>\n",
              "    <tr style=\"text-align: right;\">\n",
              "      <th></th>\n",
              "      <th>close</th>\n",
              "    </tr>\n",
              "    <tr>\n",
              "      <th>date</th>\n",
              "      <th></th>\n",
              "    </tr>\n",
              "  </thead>\n",
              "  <tbody>\n",
              "    <tr>\n",
              "      <th>2013-02-08</th>\n",
              "      <td>14.75</td>\n",
              "    </tr>\n",
              "    <tr>\n",
              "      <th>2013-02-11</th>\n",
              "      <td>14.46</td>\n",
              "    </tr>\n",
              "    <tr>\n",
              "      <th>2013-02-12</th>\n",
              "      <td>14.27</td>\n",
              "    </tr>\n",
              "    <tr>\n",
              "      <th>2013-02-13</th>\n",
              "      <td>14.66</td>\n",
              "    </tr>\n",
              "    <tr>\n",
              "      <th>2013-02-14</th>\n",
              "      <td>13.99</td>\n",
              "    </tr>\n",
              "    <tr>\n",
              "      <th>...</th>\n",
              "      <td>...</td>\n",
              "    </tr>\n",
              "    <tr>\n",
              "      <th>2018-02-01</th>\n",
              "      <td>53.88</td>\n",
              "    </tr>\n",
              "    <tr>\n",
              "      <th>2018-02-02</th>\n",
              "      <td>52.10</td>\n",
              "    </tr>\n",
              "    <tr>\n",
              "      <th>2018-02-05</th>\n",
              "      <td>49.76</td>\n",
              "    </tr>\n",
              "    <tr>\n",
              "      <th>2018-02-06</th>\n",
              "      <td>51.18</td>\n",
              "    </tr>\n",
              "    <tr>\n",
              "      <th>2018-02-07</th>\n",
              "      <td>51.40</td>\n",
              "    </tr>\n",
              "  </tbody>\n",
              "</table>\n",
              "<p>1259 rows × 1 columns</p>\n",
              "</div>"
            ],
            "text/plain": [
              "            close\n",
              "date             \n",
              "2013-02-08  14.75\n",
              "2013-02-11  14.46\n",
              "2013-02-12  14.27\n",
              "2013-02-13  14.66\n",
              "2013-02-14  13.99\n",
              "...           ...\n",
              "2018-02-01  53.88\n",
              "2018-02-02  52.10\n",
              "2018-02-05  49.76\n",
              "2018-02-06  51.18\n",
              "2018-02-07  51.40\n",
              "\n",
              "[1259 rows x 1 columns]"
            ]
          },
          "metadata": {
            "tags": []
          },
          "execution_count": 5
        }
      ]
    },
    {
      "cell_type": "code",
      "metadata": {
        "id": "22sqCg3KaRpw"
      },
      "source": [
        "df.index = pd.to_datetime(df.index)"
      ],
      "execution_count": 6,
      "outputs": []
    },
    {
      "cell_type": "code",
      "metadata": {
        "id": "4PE4i5RZacS9",
        "outputId": "a23628df-559f-4f67-e464-afbab116f6ef",
        "colab": {
          "base_uri": "https://localhost:8080/",
          "height": 446
        }
      },
      "source": [
        "df = df.resample('D').ffill()\n",
        "df"
      ],
      "execution_count": 7,
      "outputs": [
        {
          "output_type": "execute_result",
          "data": {
            "text/html": [
              "<div>\n",
              "<style scoped>\n",
              "    .dataframe tbody tr th:only-of-type {\n",
              "        vertical-align: middle;\n",
              "    }\n",
              "\n",
              "    .dataframe tbody tr th {\n",
              "        vertical-align: top;\n",
              "    }\n",
              "\n",
              "    .dataframe thead th {\n",
              "        text-align: right;\n",
              "    }\n",
              "</style>\n",
              "<table border=\"1\" class=\"dataframe\">\n",
              "  <thead>\n",
              "    <tr style=\"text-align: right;\">\n",
              "      <th></th>\n",
              "      <th>close</th>\n",
              "    </tr>\n",
              "    <tr>\n",
              "      <th>date</th>\n",
              "      <th></th>\n",
              "    </tr>\n",
              "  </thead>\n",
              "  <tbody>\n",
              "    <tr>\n",
              "      <th>2013-02-08</th>\n",
              "      <td>14.75</td>\n",
              "    </tr>\n",
              "    <tr>\n",
              "      <th>2013-02-09</th>\n",
              "      <td>14.75</td>\n",
              "    </tr>\n",
              "    <tr>\n",
              "      <th>2013-02-10</th>\n",
              "      <td>14.75</td>\n",
              "    </tr>\n",
              "    <tr>\n",
              "      <th>2013-02-11</th>\n",
              "      <td>14.46</td>\n",
              "    </tr>\n",
              "    <tr>\n",
              "      <th>2013-02-12</th>\n",
              "      <td>14.27</td>\n",
              "    </tr>\n",
              "    <tr>\n",
              "      <th>...</th>\n",
              "      <td>...</td>\n",
              "    </tr>\n",
              "    <tr>\n",
              "      <th>2018-02-03</th>\n",
              "      <td>52.10</td>\n",
              "    </tr>\n",
              "    <tr>\n",
              "      <th>2018-02-04</th>\n",
              "      <td>52.10</td>\n",
              "    </tr>\n",
              "    <tr>\n",
              "      <th>2018-02-05</th>\n",
              "      <td>49.76</td>\n",
              "    </tr>\n",
              "    <tr>\n",
              "      <th>2018-02-06</th>\n",
              "      <td>51.18</td>\n",
              "    </tr>\n",
              "    <tr>\n",
              "      <th>2018-02-07</th>\n",
              "      <td>51.40</td>\n",
              "    </tr>\n",
              "  </tbody>\n",
              "</table>\n",
              "<p>1826 rows × 1 columns</p>\n",
              "</div>"
            ],
            "text/plain": [
              "            close\n",
              "date             \n",
              "2013-02-08  14.75\n",
              "2013-02-09  14.75\n",
              "2013-02-10  14.75\n",
              "2013-02-11  14.46\n",
              "2013-02-12  14.27\n",
              "...           ...\n",
              "2018-02-03  52.10\n",
              "2018-02-04  52.10\n",
              "2018-02-05  49.76\n",
              "2018-02-06  51.18\n",
              "2018-02-07  51.40\n",
              "\n",
              "[1826 rows x 1 columns]"
            ]
          },
          "metadata": {
            "tags": []
          },
          "execution_count": 7
        }
      ]
    },
    {
      "cell_type": "code",
      "metadata": {
        "id": "Yy1yxifQapLa",
        "outputId": "fa270620-9faa-479c-a90c-7d3aad3fd417",
        "colab": {
          "base_uri": "https://localhost:8080/"
        }
      },
      "source": [
        "df.index[0]"
      ],
      "execution_count": 8,
      "outputs": [
        {
          "output_type": "execute_result",
          "data": {
            "text/plain": [
              "Timestamp('2013-02-08 00:00:00', freq='D')"
            ]
          },
          "metadata": {
            "tags": []
          },
          "execution_count": 8
        }
      ]
    },
    {
      "cell_type": "markdown",
      "metadata": {
        "id": "_TffJZNwbp-g"
      },
      "source": [
        "# Understanding the Dataset"
      ]
    },
    {
      "cell_type": "markdown",
      "metadata": {
        "id": "8WzMN8-tbtar"
      },
      "source": [
        "The first step towards data analysis is to understand the data in hand. Its columns, max, min, count, null values"
      ]
    },
    {
      "cell_type": "code",
      "metadata": {
        "id": "0OAyjIoAdTqD",
        "outputId": "d9161786-2efb-4677-f99d-81da073b28ea",
        "colab": {
          "base_uri": "https://localhost:8080/"
        }
      },
      "source": [
        "df.columns                    #prints just the columns of the matrix"
      ],
      "execution_count": 9,
      "outputs": [
        {
          "output_type": "execute_result",
          "data": {
            "text/plain": [
              "Index(['close'], dtype='object')"
            ]
          },
          "metadata": {
            "tags": []
          },
          "execution_count": 9
        }
      ]
    },
    {
      "cell_type": "code",
      "metadata": {
        "id": "GFd6cJuTdYz2",
        "outputId": "adccf0fe-2c2f-4261-cd24-31a3d67bd975",
        "colab": {
          "base_uri": "https://localhost:8080/"
        }
      },
      "source": [
        "df.info()                            #get information of each column"
      ],
      "execution_count": 10,
      "outputs": [
        {
          "output_type": "stream",
          "text": [
            "<class 'pandas.core.frame.DataFrame'>\n",
            "DatetimeIndex: 1826 entries, 2013-02-08 to 2018-02-07\n",
            "Freq: D\n",
            "Data columns (total 1 columns):\n",
            " #   Column  Non-Null Count  Dtype  \n",
            "---  ------  --------------  -----  \n",
            " 0   close   1826 non-null   float64\n",
            "dtypes: float64(1)\n",
            "memory usage: 28.5 KB\n"
          ],
          "name": "stdout"
        }
      ]
    },
    {
      "cell_type": "code",
      "metadata": {
        "id": "hetwBB2Ldc94",
        "outputId": "75a9fd57-7f5d-41c7-96f2-e0f65e9bae93",
        "colab": {
          "base_uri": "https://localhost:8080/",
          "height": 294
        }
      },
      "source": [
        "df.describe()                        #describe the dataset"
      ],
      "execution_count": 11,
      "outputs": [
        {
          "output_type": "execute_result",
          "data": {
            "text/html": [
              "<div>\n",
              "<style scoped>\n",
              "    .dataframe tbody tr th:only-of-type {\n",
              "        vertical-align: middle;\n",
              "    }\n",
              "\n",
              "    .dataframe tbody tr th {\n",
              "        vertical-align: top;\n",
              "    }\n",
              "\n",
              "    .dataframe thead th {\n",
              "        text-align: right;\n",
              "    }\n",
              "</style>\n",
              "<table border=\"1\" class=\"dataframe\">\n",
              "  <thead>\n",
              "    <tr style=\"text-align: right;\">\n",
              "      <th></th>\n",
              "      <th>close</th>\n",
              "    </tr>\n",
              "  </thead>\n",
              "  <tbody>\n",
              "    <tr>\n",
              "      <th>count</th>\n",
              "      <td>1826.000000</td>\n",
              "    </tr>\n",
              "    <tr>\n",
              "      <th>mean</th>\n",
              "      <td>38.416239</td>\n",
              "    </tr>\n",
              "    <tr>\n",
              "      <th>std</th>\n",
              "      <td>10.979374</td>\n",
              "    </tr>\n",
              "    <tr>\n",
              "      <th>min</th>\n",
              "      <td>13.020000</td>\n",
              "    </tr>\n",
              "    <tr>\n",
              "      <th>25%</th>\n",
              "      <td>34.360000</td>\n",
              "    </tr>\n",
              "    <tr>\n",
              "      <th>50%</th>\n",
              "      <td>40.870000</td>\n",
              "    </tr>\n",
              "    <tr>\n",
              "      <th>75%</th>\n",
              "      <td>46.687500</td>\n",
              "    </tr>\n",
              "    <tr>\n",
              "      <th>max</th>\n",
              "      <td>58.470000</td>\n",
              "    </tr>\n",
              "  </tbody>\n",
              "</table>\n",
              "</div>"
            ],
            "text/plain": [
              "             close\n",
              "count  1826.000000\n",
              "mean     38.416239\n",
              "std      10.979374\n",
              "min      13.020000\n",
              "25%      34.360000\n",
              "50%      40.870000\n",
              "75%      46.687500\n",
              "max      58.470000"
            ]
          },
          "metadata": {
            "tags": []
          },
          "execution_count": 11
        }
      ]
    },
    {
      "cell_type": "markdown",
      "metadata": {
        "id": "qhvNo8_Tb0nH"
      },
      "source": [
        "# Missing values"
      ]
    },
    {
      "cell_type": "markdown",
      "metadata": {
        "id": "puWqCb7Cb13k"
      },
      "source": [
        "In this section we will handle all the missing data in the dataset"
      ]
    },
    {
      "cell_type": "code",
      "metadata": {
        "id": "cxlb9q1rdgiq",
        "outputId": "a677462d-2e96-4871-d0da-ec0196051e08",
        "colab": {
          "base_uri": "https://localhost:8080/",
          "height": 79
        }
      },
      "source": [
        "total = df.isnull().sum().sort_values()                                              #counts all null cells in a row\n",
        "percent = ((df.isnull().sum()/df.isnull().count()).sort_values()*100)                #sees what percent of the data is null\n",
        "missing_data = pd.concat([total,percent],axis=1,keys=['Total','Percent'])            #combines the two matrixies\n",
        "missing_data  "
      ],
      "execution_count": 12,
      "outputs": [
        {
          "output_type": "execute_result",
          "data": {
            "text/html": [
              "<div>\n",
              "<style scoped>\n",
              "    .dataframe tbody tr th:only-of-type {\n",
              "        vertical-align: middle;\n",
              "    }\n",
              "\n",
              "    .dataframe tbody tr th {\n",
              "        vertical-align: top;\n",
              "    }\n",
              "\n",
              "    .dataframe thead th {\n",
              "        text-align: right;\n",
              "    }\n",
              "</style>\n",
              "<table border=\"1\" class=\"dataframe\">\n",
              "  <thead>\n",
              "    <tr style=\"text-align: right;\">\n",
              "      <th></th>\n",
              "      <th>Total</th>\n",
              "      <th>Percent</th>\n",
              "    </tr>\n",
              "  </thead>\n",
              "  <tbody>\n",
              "    <tr>\n",
              "      <th>close</th>\n",
              "      <td>0</td>\n",
              "      <td>0.0</td>\n",
              "    </tr>\n",
              "  </tbody>\n",
              "</table>\n",
              "</div>"
            ],
            "text/plain": [
              "       Total  Percent\n",
              "close      0      0.0"
            ]
          },
          "metadata": {
            "tags": []
          },
          "execution_count": 12
        }
      ]
    },
    {
      "cell_type": "markdown",
      "metadata": {
        "id": "LanfJO_Yb8zB"
      },
      "source": [
        "We observe that the total number of column with missing values are 0 after we do a forward fill."
      ]
    },
    {
      "cell_type": "code",
      "metadata": {
        "id": "dmJGnTqLa5He"
      },
      "source": [
        "X = df.values\n",
        "size = int(len(X) * 0.75)\n",
        "train, test = X[0:size], X[size:len(X)]"
      ],
      "execution_count": 13,
      "outputs": []
    },
    {
      "cell_type": "markdown",
      "metadata": {
        "id": "HCTfS4s2cMw6"
      },
      "source": [
        "# Plotting the Data"
      ]
    },
    {
      "cell_type": "code",
      "metadata": {
        "id": "JxJDFs9cdxWt",
        "outputId": "4c205b37-7643-43bf-a803-2d1bb2cee231",
        "colab": {
          "base_uri": "https://localhost:8080/",
          "height": 351
        }
      },
      "source": [
        "df['close'].plot(figsize=(12,5))"
      ],
      "execution_count": 14,
      "outputs": [
        {
          "output_type": "execute_result",
          "data": {
            "text/plain": [
              "<matplotlib.axes._subplots.AxesSubplot at 0x7fdfeb87a160>"
            ]
          },
          "metadata": {
            "tags": []
          },
          "execution_count": 14
        },
        {
          "output_type": "display_data",
          "data": {
            "image/png": "[encoded data removed]",
            "text/plain": [
              "<Figure size 864x360 with 1 Axes>"
            ]
          },
          "metadata": {
            "tags": [],
            "needs_background": "light"
          }
        }
      ]
    },
    {
      "cell_type": "code",
      "metadata": {
        "id": "KP-hwZ-cfC5O"
      },
      "source": [
        "#!pip install pmdarima"
      ],
      "execution_count": null,
      "outputs": []
    },
    {
      "cell_type": "code",
      "metadata": {
        "id": "dZ1lGPRsnPI6"
      },
      "source": [
        "from statsmodels.tsa.stattools import adfuller\n",
        "\n",
        "def check_stationarity(timeseries):\n",
        "    result = adfuller(timeseries,autolag='AIC')\n",
        "    dfoutput = pd.Series(result[0:4], index=['Test Statistic','p-value','#Lags Used','Number of Observations Used'])\n",
        "    print('The test statistic: %f' % result[0])\n",
        "    print('p-value: %f' % result[1])\n",
        "    print('Critical Values:')\n",
        "    for key, value in result[4].items():\n",
        "        print('%s: %.3f' % (key, value))"
      ],
      "execution_count": 15,
      "outputs": []
    },
    {
      "cell_type": "markdown",
      "metadata": {
        "id": "rTOkLbp6cU58"
      },
      "source": [
        "##### Figuring out Order for Arima model"
      ]
    },
    {
      "cell_type": "code",
      "metadata": {
        "id": "LHl02oS5fpCb"
      },
      "source": [
        "# from pmdarima import auto_arima\n",
        "# stepwise_fit = auto_arima(df['close'], trace=True,\n",
        "# suppress_warnings=True)\n",
        "# stepwise_fit.summary()"
      ],
      "execution_count": null,
      "outputs": []
    },
    {
      "cell_type": "markdown",
      "metadata": {
        "id": "SkzhKYCwcgnF"
      },
      "source": [
        "#### Split Data into Training and Testing"
      ]
    },
    {
      "cell_type": "code",
      "metadata": {
        "id": "QYzlWMixGzQO",
        "outputId": "8a41eb88-8b6a-41d9-c63d-9aed4406120a",
        "colab": {
          "base_uri": "https://localhost:8080/"
        }
      },
      "source": [
        "print(df.shape)\n",
        "train=df.iloc[:-30]\n",
        "test=df.iloc[-30:]\n",
        "print(train.shape,test.shape)"
      ],
      "execution_count": 16,
      "outputs": [
        {
          "output_type": "stream",
          "text": [
            "(1826, 1)\n",
            "(1796, 1) (30, 1)\n"
          ],
          "name": "stdout"
        }
      ]
    },
    {
      "cell_type": "markdown",
      "metadata": {
        "id": "MwXu0zuhcqTh"
      },
      "source": [
        "#### Training the model"
      ]
    },
    {
      "cell_type": "code",
      "metadata": {
        "id": "hF3oyU7PUxml",
        "outputId": "a6916181-d308-4ccd-82f3-848f7cb2c926",
        "colab": {
          "base_uri": "https://localhost:8080/"
        }
      },
      "source": [
        "from statsmodels.tsa.arima.model import ARIMA\n",
        "# best_score, best_order = float(\"inf\"), None\n",
        "# p_values = range(2,10)\n",
        "# d_values = range(0,3)\n",
        "# q_values = range(0,3)\n",
        "# for p in p_values:\n",
        "#     for d in d_values:\n",
        "#         for q in q_values:\n",
        "#             order = (p,d,q)\n",
        "#             try:\n",
        "history = train\n",
        "predictions = pd.DataFrame(columns=['close_price'])\n",
        "for i in range(0,len(test)):\n",
        "    model = ARIMA(history, order=(5,1,0), enforce_invertibility=False, enforce_stationarity=False).fit()\n",
        "    df10 = pd.DataFrame({'close_price': model.forecast()}, index=model.forecast().index)\n",
        "    predictions = predictions.append(df10)\n",
        "    history = history.append(test[i: i + 1])\n",
        "    print('Predicted=%f, Expected=%f' % (df10.iloc[0,0], test.iloc[i:i+1,0]))\n",
        "rmse = np.sqrt(mean_squared_error(test, predictions))\n",
        "            # if rmse < best_score:\n",
        "            #     best_score, best_order = rmse, order\n",
        "            # print('ARIMA:%s RMSE=%f' % (order,rmse))\n",
        "#             except:\n",
        "#                 print('a')\n",
        "#                 continue\n",
        "print('Best ARIMA:%s RMSE=%f' % (best_order, best_score))"
      ],
      "execution_count": 34,
      "outputs": [
        {
          "output_type": "stream",
          "text": [
            "Predicted=52.111357, Expected=52.080000\n",
            "Predicted=52.068568, Expected=53.780000\n",
            "Predicted=53.770149, Expected=56.420000\n",
            "Predicted=56.499534, Expected=58.470000\n",
            "Predicted=58.698582, Expected=58.470000\n",
            "Predicted=58.667724, Expected=58.470000\n",
            "Predicted=58.518973, Expected=58.470000\n",
            "Predicted=58.371010, Expected=57.980000\n",
            "Predicted=57.892006, Expected=58.160000\n",
            "Predicted=58.152578, Expected=58.340000\n",
            "Predicted=58.321092, Expected=58.060000\n",
            "Predicted=58.069023, Expected=58.060000\n",
            "Predicted=58.081075, Expected=58.060000\n",
            "Predicted=58.037317, Expected=58.100000\n",
            "Predicted=58.094978, Expected=58.290000\n",
            "Predicted=58.305588, Expected=54.790000\n"
          ],
          "name": "stdout"
        },
        {
          "output_type": "stream",
          "text": [
            "/usr/local/lib/python3.6/dist-packages/statsmodels/base/model.py:568: ConvergenceWarning: Maximum Likelihood optimization failed to converge. Check mle_retvals\n",
            "  ConvergenceWarning)\n"
          ],
          "name": "stderr"
        },
        {
          "output_type": "stream",
          "text": [
            "Predicted=54.718737, Expected=53.050000\n",
            "Predicted=52.931060, Expected=53.070000\n",
            "Predicted=52.835217, Expected=53.070000\n",
            "Predicted=52.977831, Expected=53.070000\n",
            "Predicted=53.200581, Expected=52.680000\n",
            "Predicted=52.727263, Expected=52.590000\n",
            "Predicted=52.578318, Expected=54.320000\n",
            "Predicted=54.345747, Expected=53.880000\n",
            "Predicted=53.900194, Expected=52.100000\n",
            "Predicted=52.149992, Expected=52.100000\n",
            "Predicted=52.045163, Expected=52.100000\n",
            "Predicted=51.945732, Expected=49.760000\n",
            "Predicted=49.710535, Expected=51.180000\n",
            "Predicted=51.240783, Expected=51.400000\n",
            "Best ARIMA:None RMSE=inf\n"
          ],
          "name": "stdout"
        }
      ]
    },
    {
      "cell_type": "code",
      "metadata": {
        "id": "jkl_WsvC8-5a",
        "outputId": "536f31e1-5b02-47d0-839d-ccd4e1bebd35",
        "colab": {
          "base_uri": "https://localhost:8080/",
          "height": 842
        }
      },
      "source": [
        "from statsmodels.tsa.arima_model import ARIMA\n",
        "model=ARIMA(train['close'],order=(1,0,5))\n",
        "model=model.fit()\n",
        "model.summary()"
      ],
      "execution_count": 35,
      "outputs": [
        {
          "output_type": "stream",
          "text": [
            "/usr/local/lib/python3.6/dist-packages/statsmodels/tsa/arima_model.py:472: FutureWarning: \n",
            "statsmodels.tsa.arima_model.ARMA and statsmodels.tsa.arima_model.ARIMA have\n",
            "been deprecated in favor of statsmodels.tsa.arima.model.ARIMA (note the .\n",
            "between arima and model) and\n",
            "statsmodels.tsa.SARIMAX. These will be removed after the 0.12 release.\n",
            "\n",
            "statsmodels.tsa.arima.model.ARIMA makes use of the statespace framework and\n",
            "is both well tested and maintained.\n",
            "\n",
            "To silence this warning and continue using ARMA and ARIMA until they are\n",
            "removed, use:\n",
            "\n",
            "import warnings\n",
            "warnings.filterwarnings('ignore', 'statsmodels.tsa.arima_model.ARMA',\n",
            "                        FutureWarning)\n",
            "warnings.filterwarnings('ignore', 'statsmodels.tsa.arima_model.ARIMA',\n",
            "                        FutureWarning)\n",
            "\n",
            "  warnings.warn(ARIMA_DEPRECATION_WARN, FutureWarning)\n"
          ],
          "name": "stderr"
        },
        {
          "output_type": "execute_result",
          "data": {
            "text/html": [
              "<table class=\"simpletable\">\n",
              "<caption>ARMA Model Results</caption>\n",
              "<tr>\n",
              "  <th>Dep. Variable:</th>       <td>close</td>      <th>  No. Observations:  </th>   <td>1796</td>   \n",
              "</tr>\n",
              "<tr>\n",
              "  <th>Model:</th>            <td>ARMA(1, 5)</td>    <th>  Log Likelihood     </th> <td>-1927.042</td>\n",
              "</tr>\n",
              "<tr>\n",
              "  <th>Method:</th>             <td>css-mle</td>     <th>  S.D. of innovations</th>   <td>0.706</td>  \n",
              "</tr>\n",
              "<tr>\n",
              "  <th>Date:</th>          <td>Sun, 01 Nov 2020</td> <th>  AIC                </th> <td>3870.085</td> \n",
              "</tr>\n",
              "<tr>\n",
              "  <th>Time:</th>              <td>12:42:47</td>     <th>  BIC                </th> <td>3914.031</td> \n",
              "</tr>\n",
              "<tr>\n",
              "  <th>Sample:</th>           <td>02-08-2013</td>    <th>  HQIC               </th> <td>3886.309</td> \n",
              "</tr>\n",
              "<tr>\n",
              "  <th></th>                 <td>- 01-08-2018</td>   <th>                     </th>     <td> </td>    \n",
              "</tr>\n",
              "</table>\n",
              "<table class=\"simpletable\">\n",
              "<tr>\n",
              "       <td></td>          <th>coef</th>     <th>std err</th>      <th>z</th>      <th>P>|z|</th>  <th>[0.025</th>    <th>0.975]</th>  \n",
              "</tr>\n",
              "<tr>\n",
              "  <th>const</th>       <td>   36.1673</td> <td>    8.823</td> <td>    4.099</td> <td> 0.000</td> <td>   18.875</td> <td>   53.459</td>\n",
              "</tr>\n",
              "<tr>\n",
              "  <th>ar.L1.close</th> <td>    0.9985</td> <td>    0.001</td> <td>  754.020</td> <td> 0.000</td> <td>    0.996</td> <td>    1.001</td>\n",
              "</tr>\n",
              "<tr>\n",
              "  <th>ma.L1.close</th> <td>    0.0144</td> <td>    0.024</td> <td>    0.607</td> <td> 0.544</td> <td>   -0.032</td> <td>    0.061</td>\n",
              "</tr>\n",
              "<tr>\n",
              "  <th>ma.L2.close</th> <td>    0.0229</td> <td>    0.024</td> <td>    0.970</td> <td> 0.332</td> <td>   -0.023</td> <td>    0.069</td>\n",
              "</tr>\n",
              "<tr>\n",
              "  <th>ma.L3.close</th> <td>    0.0596</td> <td>    0.023</td> <td>    2.550</td> <td> 0.011</td> <td>    0.014</td> <td>    0.105</td>\n",
              "</tr>\n",
              "<tr>\n",
              "  <th>ma.L4.close</th> <td>    0.0024</td> <td>    0.024</td> <td>    0.100</td> <td> 0.920</td> <td>   -0.044</td> <td>    0.049</td>\n",
              "</tr>\n",
              "<tr>\n",
              "  <th>ma.L5.close</th> <td>   -0.0336</td> <td>    0.024</td> <td>   -1.412</td> <td> 0.158</td> <td>   -0.080</td> <td>    0.013</td>\n",
              "</tr>\n",
              "</table>\n",
              "<table class=\"simpletable\">\n",
              "<caption>Roots</caption>\n",
              "<tr>\n",
              "    <td></td>   <th>            Real</th>  <th>         Imaginary</th> <th>         Modulus</th>  <th>        Frequency</th>\n",
              "</tr>\n",
              "<tr>\n",
              "  <th>AR.1</th> <td>           1.0015</td> <td>          +0.0000j</td> <td>           1.0015</td> <td>           0.0000</td>\n",
              "</tr>\n",
              "<tr>\n",
              "  <th>MA.1</th> <td>          -1.7088</td> <td>          -1.0654j</td> <td>           2.0137</td> <td>          -0.4113</td>\n",
              "</tr>\n",
              "<tr>\n",
              "  <th>MA.2</th> <td>          -1.7088</td> <td>          +1.0654j</td> <td>           2.0137</td> <td>           0.4113</td>\n",
              "</tr>\n",
              "<tr>\n",
              "  <th>MA.3</th> <td>           0.6265</td> <td>          -1.7018j</td> <td>           1.8135</td> <td>          -0.1939</td>\n",
              "</tr>\n",
              "<tr>\n",
              "  <th>MA.4</th> <td>           0.6265</td> <td>          +1.7018j</td> <td>           1.8135</td> <td>           0.1939</td>\n",
              "</tr>\n",
              "<tr>\n",
              "  <th>MA.5</th> <td>           2.2349</td> <td>          -0.0000j</td> <td>           2.2349</td> <td>          -0.0000</td>\n",
              "</tr>\n",
              "</table>"
            ],
            "text/plain": [
              "<class 'statsmodels.iolib.summary.Summary'>\n",
              "\"\"\"\n",
              "                              ARMA Model Results                              \n",
              "==============================================================================\n",
              "Dep. Variable:                  close   No. Observations:                 1796\n",
              "Model:                     ARMA(1, 5)   Log Likelihood               -1927.042\n",
              "Method:                       css-mle   S.D. of innovations              0.706\n",
              "Date:                Sun, 01 Nov 2020   AIC                           3870.085\n",
              "Time:                        12:42:47   BIC                           3914.031\n",
              "Sample:                    02-08-2013   HQIC                          3886.309\n",
              "                         - 01-08-2018                                         \n",
              "===============================================================================\n",
              "                  coef    std err          z      P>|z|      [0.025      0.975]\n",
              "-------------------------------------------------------------------------------\n",
              "const          36.1673      8.823      4.099      0.000      18.875      53.459\n",
              "ar.L1.close     0.9985      0.001    754.020      0.000       0.996       1.001\n",
              "ma.L1.close     0.0144      0.024      0.607      0.544      -0.032       0.061\n",
              "ma.L2.close     0.0229      0.024      0.970      0.332      -0.023       0.069\n",
              "ma.L3.close     0.0596      0.023      2.550      0.011       0.014       0.105\n",
              "ma.L4.close     0.0024      0.024      0.100      0.920      -0.044       0.049\n",
              "ma.L5.close    -0.0336      0.024     -1.412      0.158      -0.080       0.013\n",
              "                                    Roots                                    \n",
              "=============================================================================\n",
              "                  Real          Imaginary           Modulus         Frequency\n",
              "-----------------------------------------------------------------------------\n",
              "AR.1            1.0015           +0.0000j            1.0015            0.0000\n",
              "MA.1           -1.7088           -1.0654j            2.0137           -0.4113\n",
              "MA.2           -1.7088           +1.0654j            2.0137            0.4113\n",
              "MA.3            0.6265           -1.7018j            1.8135           -0.1939\n",
              "MA.4            0.6265           +1.7018j            1.8135            0.1939\n",
              "MA.5            2.2349           -0.0000j            2.2349           -0.0000\n",
              "-----------------------------------------------------------------------------\n",
              "\"\"\""
            ]
          },
          "metadata": {
            "tags": []
          },
          "execution_count": 35
        }
      ]
    },
    {
      "cell_type": "markdown",
      "metadata": {
        "id": "kJCtcvzbcwAT"
      },
      "source": [
        "#### Making Predictions on Test Set"
      ]
    },
    {
      "cell_type": "code",
      "metadata": {
        "id": "Y-YU3-AzXanO",
        "outputId": "27c86ee4-49d8-4416-b01b-10f779acf99b",
        "colab": {
          "base_uri": "https://localhost:8080/"
        }
      },
      "source": [
        "start=len(train)\n",
        "end=len(train)+len(test)-1\n",
        "pred=model.predict(start=start,end=end).rename('ARIMA Predictions')\n",
        "print(pred)\n"
      ],
      "execution_count": 36,
      "outputs": [
        {
          "output_type": "stream",
          "text": [
            "2018-01-09    52.090611\n",
            "2018-01-10    52.058057\n",
            "2018-01-11    52.000928\n",
            "2018-01-12    51.973916\n",
            "2018-01-13    51.966833\n",
            "2018-01-14    51.942425\n",
            "2018-01-15    51.918054\n",
            "2018-01-16    51.893721\n",
            "2018-01-17    51.869426\n",
            "2018-01-18    51.845168\n",
            "2018-01-19    51.820948\n",
            "2018-01-20    51.796765\n",
            "2018-01-21    51.772620\n",
            "2018-01-22    51.748512\n",
            "2018-01-23    51.724441\n",
            "2018-01-24    51.700407\n",
            "2018-01-25    51.676411\n",
            "2018-01-26    51.652451\n",
            "2018-01-27    51.628529\n",
            "2018-01-28    51.604643\n",
            "2018-01-29    51.580794\n",
            "2018-01-30    51.556983\n",
            "2018-01-31    51.533208\n",
            "2018-02-01    51.509469\n",
            "2018-02-02    51.485768\n",
            "2018-02-03    51.462103\n",
            "2018-02-04    51.438474\n",
            "2018-02-05    51.414882\n",
            "2018-02-06    51.391327\n",
            "2018-02-07    51.367808\n",
            "Freq: D, Name: ARIMA Predictions, dtype: float64\n"
          ],
          "name": "stdout"
        }
      ]
    },
    {
      "cell_type": "code",
      "metadata": {
        "id": "0Npur6JtYtZ6",
        "outputId": "430a805e-930d-41f9-813d-d47ccd90cf71",
        "colab": {
          "base_uri": "https://localhost:8080/",
          "height": 615
        }
      },
      "source": [
        "predictions.plot(legend=True)\n",
        "test.plot(legend=True)"
      ],
      "execution_count": 37,
      "outputs": [
        {
          "output_type": "execute_result",
          "data": {
            "text/plain": [
              "<matplotlib.axes._subplots.AxesSubplot at 0x7fdfe72ce438>"
            ]
          },
          "metadata": {
            "tags": []
          },
          "execution_count": 37
        },
        {
          "output_type": "display_data",
          "data": {
            "image/png": "[encoded data removed]",
            "text/plain": [
              "<Figure size 432x288 with 1 Axes>"
            ]
          },
          "metadata": {
            "tags": [],
            "needs_background": "light"
          }
        },
        {
          "output_type": "display_data",
          "data": {
            "image/png": "[encoded data removed]",
            "text/plain": [
              "<Figure size 432x288 with 1 Axes>"
            ]
          },
          "metadata": {
            "tags": [],
            "needs_background": "light"
          }
        }
      ]
    },
    {
      "cell_type": "code",
      "metadata": {
        "id": "ukurhpRyZIBs",
        "outputId": "2d062381-85c3-4cdf-eecb-84892b803c4e",
        "colab": {
          "base_uri": "https://localhost:8080/"
        }
      },
      "source": [
        "test['close'].mean()"
      ],
      "execution_count": 38,
      "outputs": [
        {
          "output_type": "execute_result",
          "data": {
            "text/plain": [
              "55.01233333333332"
            ]
          },
          "metadata": {
            "tags": []
          },
          "execution_count": 38
        }
      ]
    },
    {
      "cell_type": "code",
      "metadata": {
        "id": "-vwMvQDcZPBr",
        "outputId": "e9465cb7-1a19-4201-8167-f7d279f4edf6",
        "colab": {
          "base_uri": "https://localhost:8080/"
        }
      },
      "source": [
        "from sklearn.metrics import mean_squared_error\n",
        "from math import sqrt\n",
        "test['close'].mean()\n",
        "rmse=sqrt(mean_squared_error(pred,test['close']))\n",
        "print(rmse)"
      ],
      "execution_count": 39,
      "outputs": [
        {
          "output_type": "stream",
          "text": [
            "4.280906831887774\n"
          ],
          "name": "stdout"
        }
      ]
    },
    {
      "cell_type": "code",
      "metadata": {
        "id": "KNSz-HuPZjDQ",
        "outputId": "46507a9f-38d0-432c-95e1-8128d5cb9b8b",
        "colab": {
          "base_uri": "https://localhost:8080/",
          "height": 257
        }
      },
      "source": [
        "# model2=ARIMA(df['close'],order=(1,0,5))\n",
        "# model2=model2.fit()\n",
        "# df.tail()"
      ],
      "execution_count": null,
      "outputs": [
        {
          "output_type": "stream",
          "text": [
            "/usr/local/lib/python3.6/dist-packages/statsmodels/tsa/base/tsa_model.py:215: ValueWarning: An unsupported index was provided and will be ignored when e.g. forecasting.\n",
            "  ' ignored when e.g. forecasting.', ValueWarning)\n"
          ],
          "name": "stderr"
        },
        {
          "output_type": "execute_result",
          "data": {
            "text/html": [
              "<div>\n",
              "<style scoped>\n",
              "    .dataframe tbody tr th:only-of-type {\n",
              "        vertical-align: middle;\n",
              "    }\n",
              "\n",
              "    .dataframe tbody tr th {\n",
              "        vertical-align: top;\n",
              "    }\n",
              "\n",
              "    .dataframe thead th {\n",
              "        text-align: right;\n",
              "    }\n",
              "</style>\n",
              "<table border=\"1\" class=\"dataframe\">\n",
              "  <thead>\n",
              "    <tr style=\"text-align: right;\">\n",
              "      <th></th>\n",
              "      <th>date</th>\n",
              "      <th>open</th>\n",
              "      <th>high</th>\n",
              "      <th>low</th>\n",
              "      <th>close</th>\n",
              "      <th>volume</th>\n",
              "      <th>Name</th>\n",
              "    </tr>\n",
              "  </thead>\n",
              "  <tbody>\n",
              "    <tr>\n",
              "      <th>619035</th>\n",
              "      <td>2018-02-01</td>\n",
              "      <td>76.84</td>\n",
              "      <td>78.27</td>\n",
              "      <td>76.69</td>\n",
              "      <td>77.82</td>\n",
              "      <td>2982259</td>\n",
              "      <td>ZTS</td>\n",
              "    </tr>\n",
              "    <tr>\n",
              "      <th>619036</th>\n",
              "      <td>2018-02-02</td>\n",
              "      <td>77.53</td>\n",
              "      <td>78.12</td>\n",
              "      <td>76.73</td>\n",
              "      <td>76.78</td>\n",
              "      <td>2595187</td>\n",
              "      <td>ZTS</td>\n",
              "    </tr>\n",
              "    <tr>\n",
              "      <th>619037</th>\n",
              "      <td>2018-02-05</td>\n",
              "      <td>76.64</td>\n",
              "      <td>76.92</td>\n",
              "      <td>73.18</td>\n",
              "      <td>73.83</td>\n",
              "      <td>2962031</td>\n",
              "      <td>ZTS</td>\n",
              "    </tr>\n",
              "    <tr>\n",
              "      <th>619038</th>\n",
              "      <td>2018-02-06</td>\n",
              "      <td>72.74</td>\n",
              "      <td>74.56</td>\n",
              "      <td>72.13</td>\n",
              "      <td>73.27</td>\n",
              "      <td>4924323</td>\n",
              "      <td>ZTS</td>\n",
              "    </tr>\n",
              "    <tr>\n",
              "      <th>619039</th>\n",
              "      <td>2018-02-07</td>\n",
              "      <td>72.70</td>\n",
              "      <td>75.00</td>\n",
              "      <td>72.69</td>\n",
              "      <td>73.86</td>\n",
              "      <td>4534912</td>\n",
              "      <td>ZTS</td>\n",
              "    </tr>\n",
              "  </tbody>\n",
              "</table>\n",
              "</div>"
            ],
            "text/plain": [
              "              date   open   high    low  close   volume Name\n",
              "619035  2018-02-01  76.84  78.27  76.69  77.82  2982259  ZTS\n",
              "619036  2018-02-02  77.53  78.12  76.73  76.78  2595187  ZTS\n",
              "619037  2018-02-05  76.64  76.92  73.18  73.83  2962031  ZTS\n",
              "619038  2018-02-06  72.74  74.56  72.13  73.27  4924323  ZTS\n",
              "619039  2018-02-07  72.70  75.00  72.69  73.86  4534912  ZTS"
            ]
          },
          "metadata": {
            "tags": []
          },
          "execution_count": 31
        }
      ]
    },
    {
      "cell_type": "markdown",
      "metadata": {
        "id": "ySdzuwMKaBxL"
      },
      "source": [
        "For Future Prices (predicting for next 30 days)"
      ]
    },
    {
      "cell_type": "code",
      "metadata": {
        "id": "Bu4dc10DbIWA",
        "outputId": "14f26db1-7303-43cb-f5aa-1117b20c960f",
        "colab": {
          "base_uri": "https://localhost:8080/",
          "height": 373
        }
      },
      "source": [
        "pred.plot(figsize=(12,5),legend=True)"
      ],
      "execution_count": 41,
      "outputs": [
        {
          "output_type": "execute_result",
          "data": {
            "text/plain": [
              "<matplotlib.axes._subplots.AxesSubplot at 0x7fdfe71ac390>"
            ]
          },
          "metadata": {
            "tags": []
          },
          "execution_count": 41
        },
        {
          "output_type": "display_data",
          "data": {
            "image/png": "[encoded data removed]",
            "text/plain": [
              "<Figure size 864x360 with 1 Axes>"
            ]
          },
          "metadata": {
            "tags": [],
            "needs_background": "light"
          }
        }
      ]
    },
    {
      "cell_type": "markdown",
      "metadata": {
        "id": "2hLsZdKympj-"
      },
      "source": [
        "# Residual Error"
      ]
    },
    {
      "cell_type": "code",
      "metadata": {
        "id": "u6vQVoSCl0-y",
        "outputId": "b262cb98-7266-41c3-d71e-e30b09470f80",
        "colab": {
          "base_uri": "https://localhost:8080/",
          "height": 669
        }
      },
      "source": [
        "# plot residual errors\n",
        "residuals = pd.DataFrame(model2.resid)\n",
        "residuals.plot()\n",
        "# pyplot.show()\n",
        "residuals.plot(kind='kde')\n",
        "# pyplot.show()\n",
        "print(residuals.describe())"
      ],
      "execution_count": null,
      "outputs": [
        {
          "output_type": "stream",
          "text": [
            "                   0\n",
            "count  619029.000000\n",
            "mean       -0.000018\n",
            "std         4.798985\n",
            "min     -1841.246321\n",
            "25%        -0.424665\n",
            "50%        -0.004491\n",
            "75%         0.466873\n",
            "max       661.331342\n"
          ],
          "name": "stdout"
        },
        {
          "output_type": "display_data",
          "data": {
            "image/png": "[encoded data removed]",
            "text/plain": [
              "<Figure size 432x288 with 1 Axes>"
            ]
          },
          "metadata": {
            "tags": [],
            "needs_background": "light"
          }
        },
        {
          "output_type": "display_data",
          "data": {
            "image/png": "[encoded data removed]",
            "text/plain": [
              "<Figure size 432x288 with 1 Axes>"
            ]
          },
          "metadata": {
            "tags": [],
            "needs_background": "light"
          }
        }
      ]
    }
  ]
}