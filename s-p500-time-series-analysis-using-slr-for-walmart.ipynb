{
 "cells": [
  {
   "cell_type": "code",
   "execution_count": 1,
   "metadata": {
    "_cell_guid": "b1076dfc-b9ad-4769-8c92-a6c4dae69d19",
    "_uuid": "8f2839f25d086af736a60e9eeb907d3b93b6e0e5",
    "execution": {
     "iopub.execute_input": "2020-11-29T04:44:14.073250Z",
     "iopub.status.busy": "2020-11-29T04:44:14.072452Z",
     "iopub.status.idle": "2020-11-29T04:44:15.052311Z",
     "shell.execute_reply": "2020-11-29T04:44:15.051912Z"
    },
    "papermill": {
     "duration": 1.006761,
     "end_time": "2020-11-29T04:44:15.052425",
     "exception": false,
     "start_time": "2020-11-29T04:44:14.045664",
     "status": "completed"
    },
    "tags": []
   },
   "outputs": [],
   "source": [
    "#essential libraries\n",
    "import pandas as pd                   #pandas does things with matrixes\n",
    "import numpy as np                    #used for sorting a matrix\n",
    "import matplotlib.pyplot as plt       #matplotlib is used for plotting data\n",
    "import matplotlib.ticker as ticker    #used for changing tick spacing\n",
    "import datetime as dt                 #used for dates\n",
    "import matplotlib.dates as mdates     #used for dates, in a different way\n",
    "\n",
    "from sklearn import preprocessing;\n",
    "from sklearn.model_selection import cross_validate\n",
    "from sklearn.model_selection import train_test_split\n",
    "from sklearn import linear_model;"
   ]
  },
  {
   "cell_type": "code",
   "execution_count": 2,
   "metadata": {
    "_cell_guid": "79c7e3d0-c299-4dcb-8224-4455121ee9b0",
    "_uuid": "d629ff2d2480ee46fbb7e2d37f6b5fab8052498a",
    "execution": {
     "iopub.execute_input": "2020-11-29T04:44:15.088599Z",
     "iopub.status.busy": "2020-11-29T04:44:15.088157Z",
     "iopub.status.idle": "2020-11-29T04:44:15.716488Z",
     "shell.execute_reply": "2020-11-29T04:44:15.717015Z"
    },
    "papermill": {
     "duration": 0.650206,
     "end_time": "2020-11-29T04:44:15.717159",
     "exception": false,
     "start_time": "2020-11-29T04:44:15.066953",
     "status": "completed"
    },
    "tags": []
   },
   "outputs": [
    {
     "data": {
      "text/html": [
       "<div>\n",
       "<style scoped>\n",
       "    .dataframe tbody tr th:only-of-type {\n",
       "        vertical-align: middle;\n",
       "    }\n",
       "\n",
       "    .dataframe tbody tr th {\n",
       "        vertical-align: top;\n",
       "    }\n",
       "\n",
       "    .dataframe thead th {\n",
       "        text-align: right;\n",
       "    }\n",
       "</style>\n",
       "<table border=\"1\" class=\"dataframe\">\n",
       "  <thead>\n",
       "    <tr style=\"text-align: right;\">\n",
       "      <th></th>\n",
       "      <th>date</th>\n",
       "      <th>open</th>\n",
       "      <th>high</th>\n",
       "      <th>low</th>\n",
       "      <th>close</th>\n",
       "      <th>volume</th>\n",
       "      <th>Name</th>\n",
       "    </tr>\n",
       "  </thead>\n",
       "  <tbody>\n",
       "    <tr>\n",
       "      <th>0</th>\n",
       "      <td>2013-02-08</td>\n",
       "      <td>15.07</td>\n",
       "      <td>15.12</td>\n",
       "      <td>14.63</td>\n",
       "      <td>14.75</td>\n",
       "      <td>8407500</td>\n",
       "      <td>AAL</td>\n",
       "    </tr>\n",
       "    <tr>\n",
       "      <th>1</th>\n",
       "      <td>2013-02-11</td>\n",
       "      <td>14.89</td>\n",
       "      <td>15.01</td>\n",
       "      <td>14.26</td>\n",
       "      <td>14.46</td>\n",
       "      <td>8882000</td>\n",
       "      <td>AAL</td>\n",
       "    </tr>\n",
       "    <tr>\n",
       "      <th>2</th>\n",
       "      <td>2013-02-12</td>\n",
       "      <td>14.45</td>\n",
       "      <td>14.51</td>\n",
       "      <td>14.10</td>\n",
       "      <td>14.27</td>\n",
       "      <td>8126000</td>\n",
       "      <td>AAL</td>\n",
       "    </tr>\n",
       "    <tr>\n",
       "      <th>3</th>\n",
       "      <td>2013-02-13</td>\n",
       "      <td>14.30</td>\n",
       "      <td>14.94</td>\n",
       "      <td>14.25</td>\n",
       "      <td>14.66</td>\n",
       "      <td>10259500</td>\n",
       "      <td>AAL</td>\n",
       "    </tr>\n",
       "    <tr>\n",
       "      <th>4</th>\n",
       "      <td>2013-02-14</td>\n",
       "      <td>14.94</td>\n",
       "      <td>14.96</td>\n",
       "      <td>13.16</td>\n",
       "      <td>13.99</td>\n",
       "      <td>31879900</td>\n",
       "      <td>AAL</td>\n",
       "    </tr>\n",
       "  </tbody>\n",
       "</table>\n",
       "</div>"
      ],
      "text/plain": [
       "         date   open   high    low  close    volume Name\n",
       "0  2013-02-08  15.07  15.12  14.63  14.75   8407500  AAL\n",
       "1  2013-02-11  14.89  15.01  14.26  14.46   8882000  AAL\n",
       "2  2013-02-12  14.45  14.51  14.10  14.27   8126000  AAL\n",
       "3  2013-02-13  14.30  14.94  14.25  14.66  10259500  AAL\n",
       "4  2013-02-14  14.94  14.96  13.16  13.99  31879900  AAL"
      ]
     },
     "execution_count": 2,
     "metadata": {},
     "output_type": "execute_result"
    }
   ],
   "source": [
    "#importing dataset\n",
    "df = pd.read_csv('../input/sandp500/all_stocks_5yr.csv')\n",
    "df.head()"
   ]
  },
  {
   "cell_type": "markdown",
   "metadata": {
    "papermill": {
     "duration": 0.019425,
     "end_time": "2020-11-29T04:44:15.756646",
     "exception": false,
     "start_time": "2020-11-29T04:44:15.737221",
     "status": "completed"
    },
    "tags": []
   },
   "source": [
    "# understanding our dataset\n",
    "\n",
    "The first step towards data analysis is to understand the data in hand. Its columns, max, min, count, null values, etc..."
   ]
  },
  {
   "cell_type": "code",
   "execution_count": 3,
   "metadata": {
    "execution": {
     "iopub.execute_input": "2020-11-29T04:44:15.805011Z",
     "iopub.status.busy": "2020-11-29T04:44:15.804118Z",
     "iopub.status.idle": "2020-11-29T04:44:15.809012Z",
     "shell.execute_reply": "2020-11-29T04:44:15.809518Z"
    },
    "papermill": {
     "duration": 0.032576,
     "end_time": "2020-11-29T04:44:15.809652",
     "exception": false,
     "start_time": "2020-11-29T04:44:15.777076",
     "status": "completed"
    },
    "tags": []
   },
   "outputs": [
    {
     "data": {
      "text/plain": [
       "Index(['date', 'open', 'high', 'low', 'close', 'volume', 'Name'], dtype='object')"
      ]
     },
     "execution_count": 3,
     "metadata": {},
     "output_type": "execute_result"
    }
   ],
   "source": [
    "df.columns                     #prints just the columns of the matrix"
   ]
  },
  {
   "cell_type": "code",
   "execution_count": 4,
   "metadata": {
    "execution": {
     "iopub.execute_input": "2020-11-29T04:44:15.856534Z",
     "iopub.status.busy": "2020-11-29T04:44:15.855398Z",
     "iopub.status.idle": "2020-11-29T04:44:15.938491Z",
     "shell.execute_reply": "2020-11-29T04:44:15.937636Z"
    },
    "papermill": {
     "duration": 0.108515,
     "end_time": "2020-11-29T04:44:15.938630",
     "exception": false,
     "start_time": "2020-11-29T04:44:15.830115",
     "status": "completed"
    },
    "tags": []
   },
   "outputs": [
    {
     "name": "stdout",
     "output_type": "stream",
     "text": [
      "<class 'pandas.core.frame.DataFrame'>\n",
      "RangeIndex: 619040 entries, 0 to 619039\n",
      "Data columns (total 7 columns):\n",
      " #   Column  Non-Null Count   Dtype  \n",
      "---  ------  --------------   -----  \n",
      " 0   date    619040 non-null  object \n",
      " 1   open    619029 non-null  float64\n",
      " 2   high    619032 non-null  float64\n",
      " 3   low     619032 non-null  float64\n",
      " 4   close   619040 non-null  float64\n",
      " 5   volume  619040 non-null  int64  \n",
      " 6   Name    619040 non-null  object \n",
      "dtypes: float64(4), int64(1), object(2)\n",
      "memory usage: 33.1+ MB\n"
     ]
    }
   ],
   "source": [
    "df.info()                            #get information of each column"
   ]
  },
  {
   "cell_type": "code",
   "execution_count": 5,
   "metadata": {
    "execution": {
     "iopub.execute_input": "2020-11-29T04:44:15.997675Z",
     "iopub.status.busy": "2020-11-29T04:44:15.996823Z",
     "iopub.status.idle": "2020-11-29T04:44:16.096057Z",
     "shell.execute_reply": "2020-11-29T04:44:16.095295Z"
    },
    "papermill": {
     "duration": 0.135449,
     "end_time": "2020-11-29T04:44:16.096186",
     "exception": false,
     "start_time": "2020-11-29T04:44:15.960737",
     "status": "completed"
    },
    "tags": []
   },
   "outputs": [
    {
     "data": {
      "text/html": [
       "<div>\n",
       "<style scoped>\n",
       "    .dataframe tbody tr th:only-of-type {\n",
       "        vertical-align: middle;\n",
       "    }\n",
       "\n",
       "    .dataframe tbody tr th {\n",
       "        vertical-align: top;\n",
       "    }\n",
       "\n",
       "    .dataframe thead th {\n",
       "        text-align: right;\n",
       "    }\n",
       "</style>\n",
       "<table border=\"1\" class=\"dataframe\">\n",
       "  <thead>\n",
       "    <tr style=\"text-align: right;\">\n",
       "      <th></th>\n",
       "      <th>open</th>\n",
       "      <th>high</th>\n",
       "      <th>low</th>\n",
       "      <th>close</th>\n",
       "      <th>volume</th>\n",
       "    </tr>\n",
       "  </thead>\n",
       "  <tbody>\n",
       "    <tr>\n",
       "      <th>count</th>\n",
       "      <td>619029.000000</td>\n",
       "      <td>619032.000000</td>\n",
       "      <td>619032.000000</td>\n",
       "      <td>619040.000000</td>\n",
       "      <td>6.190400e+05</td>\n",
       "    </tr>\n",
       "    <tr>\n",
       "      <th>mean</th>\n",
       "      <td>83.023334</td>\n",
       "      <td>83.778311</td>\n",
       "      <td>82.256096</td>\n",
       "      <td>83.043763</td>\n",
       "      <td>4.321823e+06</td>\n",
       "    </tr>\n",
       "    <tr>\n",
       "      <th>std</th>\n",
       "      <td>97.378769</td>\n",
       "      <td>98.207519</td>\n",
       "      <td>96.507421</td>\n",
       "      <td>97.389748</td>\n",
       "      <td>8.693610e+06</td>\n",
       "    </tr>\n",
       "    <tr>\n",
       "      <th>min</th>\n",
       "      <td>1.620000</td>\n",
       "      <td>1.690000</td>\n",
       "      <td>1.500000</td>\n",
       "      <td>1.590000</td>\n",
       "      <td>0.000000e+00</td>\n",
       "    </tr>\n",
       "    <tr>\n",
       "      <th>25%</th>\n",
       "      <td>40.220000</td>\n",
       "      <td>40.620000</td>\n",
       "      <td>39.830000</td>\n",
       "      <td>40.245000</td>\n",
       "      <td>1.070320e+06</td>\n",
       "    </tr>\n",
       "    <tr>\n",
       "      <th>50%</th>\n",
       "      <td>62.590000</td>\n",
       "      <td>63.150000</td>\n",
       "      <td>62.020000</td>\n",
       "      <td>62.620000</td>\n",
       "      <td>2.082094e+06</td>\n",
       "    </tr>\n",
       "    <tr>\n",
       "      <th>75%</th>\n",
       "      <td>94.370000</td>\n",
       "      <td>95.180000</td>\n",
       "      <td>93.540000</td>\n",
       "      <td>94.410000</td>\n",
       "      <td>4.284509e+06</td>\n",
       "    </tr>\n",
       "    <tr>\n",
       "      <th>max</th>\n",
       "      <td>2044.000000</td>\n",
       "      <td>2067.990000</td>\n",
       "      <td>2035.110000</td>\n",
       "      <td>2049.000000</td>\n",
       "      <td>6.182376e+08</td>\n",
       "    </tr>\n",
       "  </tbody>\n",
       "</table>\n",
       "</div>"
      ],
      "text/plain": [
       "                open           high            low          close  \\\n",
       "count  619029.000000  619032.000000  619032.000000  619040.000000   \n",
       "mean       83.023334      83.778311      82.256096      83.043763   \n",
       "std        97.378769      98.207519      96.507421      97.389748   \n",
       "min         1.620000       1.690000       1.500000       1.590000   \n",
       "25%        40.220000      40.620000      39.830000      40.245000   \n",
       "50%        62.590000      63.150000      62.020000      62.620000   \n",
       "75%        94.370000      95.180000      93.540000      94.410000   \n",
       "max      2044.000000    2067.990000    2035.110000    2049.000000   \n",
       "\n",
       "             volume  \n",
       "count  6.190400e+05  \n",
       "mean   4.321823e+06  \n",
       "std    8.693610e+06  \n",
       "min    0.000000e+00  \n",
       "25%    1.070320e+06  \n",
       "50%    2.082094e+06  \n",
       "75%    4.284509e+06  \n",
       "max    6.182376e+08  "
      ]
     },
     "execution_count": 5,
     "metadata": {},
     "output_type": "execute_result"
    }
   ],
   "source": [
    "df.describe()                        #describe the dataset"
   ]
  },
  {
   "cell_type": "markdown",
   "metadata": {
    "papermill": {
     "duration": 0.032604,
     "end_time": "2020-11-29T04:44:16.161693",
     "exception": false,
     "start_time": "2020-11-29T04:44:16.129089",
     "status": "completed"
    },
    "tags": []
   },
   "source": [
    "# Missing values\n",
    "In this section we will handle all the missing data in the dataset"
   ]
  },
  {
   "cell_type": "code",
   "execution_count": 6,
   "metadata": {
    "execution": {
     "iopub.execute_input": "2020-11-29T04:44:16.233500Z",
     "iopub.status.busy": "2020-11-29T04:44:16.232672Z",
     "iopub.status.idle": "2020-11-29T04:44:16.454852Z",
     "shell.execute_reply": "2020-11-29T04:44:16.454179Z"
    },
    "papermill": {
     "duration": 0.260812,
     "end_time": "2020-11-29T04:44:16.454958",
     "exception": false,
     "start_time": "2020-11-29T04:44:16.194146",
     "status": "completed"
    },
    "tags": []
   },
   "outputs": [
    {
     "data": {
      "text/html": [
       "<div>\n",
       "<style scoped>\n",
       "    .dataframe tbody tr th:only-of-type {\n",
       "        vertical-align: middle;\n",
       "    }\n",
       "\n",
       "    .dataframe tbody tr th {\n",
       "        vertical-align: top;\n",
       "    }\n",
       "\n",
       "    .dataframe thead th {\n",
       "        text-align: right;\n",
       "    }\n",
       "</style>\n",
       "<table border=\"1\" class=\"dataframe\">\n",
       "  <thead>\n",
       "    <tr style=\"text-align: right;\">\n",
       "      <th></th>\n",
       "      <th>Total</th>\n",
       "      <th>Percent</th>\n",
       "    </tr>\n",
       "  </thead>\n",
       "  <tbody>\n",
       "    <tr>\n",
       "      <th>date</th>\n",
       "      <td>0</td>\n",
       "      <td>0.000000</td>\n",
       "    </tr>\n",
       "    <tr>\n",
       "      <th>close</th>\n",
       "      <td>0</td>\n",
       "      <td>0.000000</td>\n",
       "    </tr>\n",
       "    <tr>\n",
       "      <th>volume</th>\n",
       "      <td>0</td>\n",
       "      <td>0.000000</td>\n",
       "    </tr>\n",
       "    <tr>\n",
       "      <th>Name</th>\n",
       "      <td>0</td>\n",
       "      <td>0.000000</td>\n",
       "    </tr>\n",
       "    <tr>\n",
       "      <th>high</th>\n",
       "      <td>8</td>\n",
       "      <td>0.001292</td>\n",
       "    </tr>\n",
       "    <tr>\n",
       "      <th>low</th>\n",
       "      <td>8</td>\n",
       "      <td>0.001292</td>\n",
       "    </tr>\n",
       "    <tr>\n",
       "      <th>open</th>\n",
       "      <td>11</td>\n",
       "      <td>0.001777</td>\n",
       "    </tr>\n",
       "  </tbody>\n",
       "</table>\n",
       "</div>"
      ],
      "text/plain": [
       "        Total   Percent\n",
       "date        0  0.000000\n",
       "close       0  0.000000\n",
       "volume      0  0.000000\n",
       "Name        0  0.000000\n",
       "high        8  0.001292\n",
       "low         8  0.001292\n",
       "open       11  0.001777"
      ]
     },
     "execution_count": 6,
     "metadata": {},
     "output_type": "execute_result"
    }
   ],
   "source": [
    "total = df.isnull().sum().sort_values()                                              #counts all null cells in a row\n",
    "percent = ((df.isnull().sum()/df.isnull().count()).sort_values()*100)                #sees what percent of the data is null\n",
    "missing_data = pd.concat([total,percent],axis=1,keys=['Total','Percent'])            #combines the two matrixies\n",
    "missing_data                                                                         #this displays the matrix"
   ]
  },
  {
   "cell_type": "markdown",
   "metadata": {
    "papermill": {
     "duration": 0.021717,
     "end_time": "2020-11-29T04:44:16.498895",
     "exception": false,
     "start_time": "2020-11-29T04:44:16.477178",
     "status": "completed"
    },
    "tags": []
   },
   "source": [
    "We observe that the total number of column with missing values is 8-27 which is less that 0.005% of the dataset.\n",
    "It is convinient to get rid of the rows with missing value since the affect on the dataset will be very insignificant, but to avoid any issues since it is a time series analysis, we will forward fill the null values instead of dropping them."
   ]
  },
  {
   "cell_type": "code",
   "execution_count": 7,
   "metadata": {
    "execution": {
     "iopub.execute_input": "2020-11-29T04:44:16.559951Z",
     "iopub.status.busy": "2020-11-29T04:44:16.559283Z",
     "iopub.status.idle": "2020-11-29T04:46:14.647988Z",
     "shell.execute_reply": "2020-11-29T04:46:14.647447Z"
    },
    "papermill": {
     "duration": 118.127387,
     "end_time": "2020-11-29T04:46:14.648109",
     "exception": false,
     "start_time": "2020-11-29T04:44:16.520722",
     "status": "completed"
    },
    "tags": []
   },
   "outputs": [],
   "source": [
    "df = df.ffill(axis=1)                                   #forward filling rows with a null cell\n"
   ]
  },
  {
   "cell_type": "markdown",
   "metadata": {
    "papermill": {
     "duration": 0.022044,
     "end_time": "2020-11-29T04:46:14.693045",
     "exception": false,
     "start_time": "2020-11-29T04:46:14.671001",
     "status": "completed"
    },
    "tags": []
   },
   "source": [
    "Let's check the missing data again"
   ]
  },
  {
   "cell_type": "code",
   "execution_count": 8,
   "metadata": {
    "execution": {
     "iopub.execute_input": "2020-11-29T04:46:14.915435Z",
     "iopub.status.busy": "2020-11-29T04:46:14.914185Z",
     "iopub.status.idle": "2020-11-29T04:46:15.291074Z",
     "shell.execute_reply": "2020-11-29T04:46:15.290524Z"
    },
    "papermill": {
     "duration": 0.575571,
     "end_time": "2020-11-29T04:46:15.291175",
     "exception": false,
     "start_time": "2020-11-29T04:46:14.715604",
     "status": "completed"
    },
    "tags": []
   },
   "outputs": [
    {
     "data": {
      "text/html": [
       "<div>\n",
       "<style scoped>\n",
       "    .dataframe tbody tr th:only-of-type {\n",
       "        vertical-align: middle;\n",
       "    }\n",
       "\n",
       "    .dataframe tbody tr th {\n",
       "        vertical-align: top;\n",
       "    }\n",
       "\n",
       "    .dataframe thead th {\n",
       "        text-align: right;\n",
       "    }\n",
       "</style>\n",
       "<table border=\"1\" class=\"dataframe\">\n",
       "  <thead>\n",
       "    <tr style=\"text-align: right;\">\n",
       "      <th></th>\n",
       "      <th>Total</th>\n",
       "      <th>Percent</th>\n",
       "    </tr>\n",
       "  </thead>\n",
       "  <tbody>\n",
       "    <tr>\n",
       "      <th>date</th>\n",
       "      <td>0</td>\n",
       "      <td>0.0</td>\n",
       "    </tr>\n",
       "    <tr>\n",
       "      <th>open</th>\n",
       "      <td>0</td>\n",
       "      <td>0.0</td>\n",
       "    </tr>\n",
       "    <tr>\n",
       "      <th>high</th>\n",
       "      <td>0</td>\n",
       "      <td>0.0</td>\n",
       "    </tr>\n",
       "    <tr>\n",
       "      <th>low</th>\n",
       "      <td>0</td>\n",
       "      <td>0.0</td>\n",
       "    </tr>\n",
       "    <tr>\n",
       "      <th>close</th>\n",
       "      <td>0</td>\n",
       "      <td>0.0</td>\n",
       "    </tr>\n",
       "    <tr>\n",
       "      <th>volume</th>\n",
       "      <td>0</td>\n",
       "      <td>0.0</td>\n",
       "    </tr>\n",
       "    <tr>\n",
       "      <th>Name</th>\n",
       "      <td>0</td>\n",
       "      <td>0.0</td>\n",
       "    </tr>\n",
       "  </tbody>\n",
       "</table>\n",
       "</div>"
      ],
      "text/plain": [
       "        Total  Percent\n",
       "date        0      0.0\n",
       "open        0      0.0\n",
       "high        0      0.0\n",
       "low         0      0.0\n",
       "close       0      0.0\n",
       "volume      0      0.0\n",
       "Name        0      0.0"
      ]
     },
     "execution_count": 8,
     "metadata": {},
     "output_type": "execute_result"
    }
   ],
   "source": [
    "total = df.isnull().sum().sort_values()                                              #counts all null cells in a row\n",
    "percent = ((df.isnull().sum()/df.isnull().count()).sort_values()*100)                #sees what percent of the data is null\n",
    "missing_data = pd.concat([total,percent],axis=1,keys=['Total','Percent'])            #combines the two matrixies\n",
    "missing_data  "
   ]
  },
  {
   "cell_type": "markdown",
   "metadata": {
    "papermill": {
     "duration": 0.022593,
     "end_time": "2020-11-29T04:46:15.336734",
     "exception": false,
     "start_time": "2020-11-29T04:46:15.314141",
     "status": "completed"
    },
    "tags": []
   },
   "source": [
    "We observe that the total number of missing rows to be 11, making the total number of rows being deleted less than 0.002% of the dataset."
   ]
  },
  {
   "cell_type": "code",
   "execution_count": 9,
   "metadata": {
    "execution": {
     "iopub.execute_input": "2020-11-29T04:46:15.413004Z",
     "iopub.status.busy": "2020-11-29T04:46:15.412391Z",
     "iopub.status.idle": "2020-11-29T04:46:16.072057Z",
     "shell.execute_reply": "2020-11-29T04:46:16.071210Z"
    },
    "papermill": {
     "duration": 0.71283,
     "end_time": "2020-11-29T04:46:16.072211",
     "exception": false,
     "start_time": "2020-11-29T04:46:15.359381",
     "status": "completed"
    },
    "tags": []
   },
   "outputs": [
    {
     "data": {
      "text/html": [
       "<div>\n",
       "<style scoped>\n",
       "    .dataframe tbody tr th:only-of-type {\n",
       "        vertical-align: middle;\n",
       "    }\n",
       "\n",
       "    .dataframe tbody tr th {\n",
       "        vertical-align: top;\n",
       "    }\n",
       "\n",
       "    .dataframe thead th {\n",
       "        text-align: right;\n",
       "    }\n",
       "</style>\n",
       "<table border=\"1\" class=\"dataframe\">\n",
       "  <thead>\n",
       "    <tr style=\"text-align: right;\">\n",
       "      <th></th>\n",
       "      <th>Total</th>\n",
       "      <th>Percent</th>\n",
       "    </tr>\n",
       "  </thead>\n",
       "  <tbody>\n",
       "    <tr>\n",
       "      <th>date</th>\n",
       "      <td>0</td>\n",
       "      <td>0.0</td>\n",
       "    </tr>\n",
       "    <tr>\n",
       "      <th>open</th>\n",
       "      <td>0</td>\n",
       "      <td>0.0</td>\n",
       "    </tr>\n",
       "    <tr>\n",
       "      <th>high</th>\n",
       "      <td>0</td>\n",
       "      <td>0.0</td>\n",
       "    </tr>\n",
       "    <tr>\n",
       "      <th>low</th>\n",
       "      <td>0</td>\n",
       "      <td>0.0</td>\n",
       "    </tr>\n",
       "    <tr>\n",
       "      <th>close</th>\n",
       "      <td>0</td>\n",
       "      <td>0.0</td>\n",
       "    </tr>\n",
       "    <tr>\n",
       "      <th>volume</th>\n",
       "      <td>0</td>\n",
       "      <td>0.0</td>\n",
       "    </tr>\n",
       "    <tr>\n",
       "      <th>Name</th>\n",
       "      <td>0</td>\n",
       "      <td>0.0</td>\n",
       "    </tr>\n",
       "  </tbody>\n",
       "</table>\n",
       "</div>"
      ],
      "text/plain": [
       "        Total  Percent\n",
       "date        0      0.0\n",
       "open        0      0.0\n",
       "high        0      0.0\n",
       "low         0      0.0\n",
       "close       0      0.0\n",
       "volume      0      0.0\n",
       "Name        0      0.0"
      ]
     },
     "execution_count": 9,
     "metadata": {},
     "output_type": "execute_result"
    }
   ],
   "source": [
    "df = df.drop(df.loc[df['open'].isnull()].index)                                   #drops rows with a null cell in the open column\n",
    "total = df.isnull().sum().sort_values()                                              #counts all null cells in a row\n",
    "percent = ((df.isnull().sum()/df.isnull().count()).sort_values()*100)                #sees what percent of the data is null\n",
    "missing_data = pd.concat([total,percent],axis=1,keys=['Total','Percent'])            #combines the two matrixies\n",
    "missing_data  "
   ]
  },
  {
   "cell_type": "markdown",
   "metadata": {
    "papermill": {
     "duration": 0.03527,
     "end_time": "2020-11-29T04:46:16.145307",
     "exception": false,
     "start_time": "2020-11-29T04:46:16.110037",
     "status": "completed"
    },
    "tags": []
   },
   "source": [
    "we have ***successfully*** cleared all missing data from our dataset"
   ]
  },
  {
   "cell_type": "markdown",
   "metadata": {
    "papermill": {
     "duration": 0.037141,
     "end_time": "2020-11-29T04:46:16.218009",
     "exception": false,
     "start_time": "2020-11-29T04:46:16.180868",
     "status": "completed"
    },
    "tags": []
   },
   "source": [
    "# Exploratory Data Analysis\n",
    "\n",
    "Let's analyse, plot and work on different aspects of the project"
   ]
  },
  {
   "cell_type": "code",
   "execution_count": 10,
   "metadata": {
    "execution": {
     "iopub.execute_input": "2020-11-29T04:46:16.324852Z",
     "iopub.status.busy": "2020-11-29T04:46:16.305086Z",
     "iopub.status.idle": "2020-11-29T04:46:16.338621Z",
     "shell.execute_reply": "2020-11-29T04:46:16.338094Z"
    },
    "papermill": {
     "duration": 0.084918,
     "end_time": "2020-11-29T04:46:16.338728",
     "exception": false,
     "start_time": "2020-11-29T04:46:16.253810",
     "status": "completed"
    },
    "tags": []
   },
   "outputs": [
    {
     "data": {
      "text/plain": [
       "505"
      ]
     },
     "execution_count": 10,
     "metadata": {},
     "output_type": "execute_result"
    }
   ],
   "source": [
    "len(df.Name.unique())                  #calculating total number of companies listed in the dataset"
   ]
  },
  {
   "cell_type": "markdown",
   "metadata": {
    "papermill": {
     "duration": 0.024284,
     "end_time": "2020-11-29T04:46:16.387183",
     "exception": false,
     "start_time": "2020-11-29T04:46:16.362899",
     "status": "completed"
    },
    "tags": []
   },
   "source": [
    "# Feature Extraction"
   ]
  },
  {
   "cell_type": "code",
   "execution_count": 11,
   "metadata": {
    "execution": {
     "iopub.execute_input": "2020-11-29T04:46:16.569203Z",
     "iopub.status.busy": "2020-11-29T04:46:16.568572Z",
     "iopub.status.idle": "2020-11-29T04:46:17.088959Z",
     "shell.execute_reply": "2020-11-29T04:46:17.088300Z"
    },
    "papermill": {
     "duration": 0.676889,
     "end_time": "2020-11-29T04:46:17.089067",
     "exception": false,
     "start_time": "2020-11-29T04:46:16.412178",
     "status": "completed"
    },
    "tags": []
   },
   "outputs": [],
   "source": [
    "# For the sake of visualization, Let's create extract year from the date column\n",
    "df['year'] = pd.DatetimeIndex(df[\"date\"]).year\n",
    "df['month'] = pd.DatetimeIndex(df[\"date\"]).month\n",
    "df['date'] = pd.DatetimeIndex(df[\"date\"]).date"
   ]
  },
  {
   "cell_type": "code",
   "execution_count": 12,
   "metadata": {
    "execution": {
     "iopub.execute_input": "2020-11-29T04:46:17.152994Z",
     "iopub.status.busy": "2020-11-29T04:46:17.151931Z",
     "iopub.status.idle": "2020-11-29T04:46:17.156775Z",
     "shell.execute_reply": "2020-11-29T04:46:17.156127Z"
    },
    "papermill": {
     "duration": 0.043105,
     "end_time": "2020-11-29T04:46:17.156880",
     "exception": false,
     "start_time": "2020-11-29T04:46:17.113775",
     "status": "completed"
    },
    "tags": []
   },
   "outputs": [
    {
     "data": {
      "text/html": [
       "<div>\n",
       "<style scoped>\n",
       "    .dataframe tbody tr th:only-of-type {\n",
       "        vertical-align: middle;\n",
       "    }\n",
       "\n",
       "    .dataframe tbody tr th {\n",
       "        vertical-align: top;\n",
       "    }\n",
       "\n",
       "    .dataframe thead th {\n",
       "        text-align: right;\n",
       "    }\n",
       "</style>\n",
       "<table border=\"1\" class=\"dataframe\">\n",
       "  <thead>\n",
       "    <tr style=\"text-align: right;\">\n",
       "      <th></th>\n",
       "      <th>date</th>\n",
       "      <th>open</th>\n",
       "      <th>high</th>\n",
       "      <th>low</th>\n",
       "      <th>close</th>\n",
       "      <th>volume</th>\n",
       "      <th>Name</th>\n",
       "      <th>year</th>\n",
       "      <th>month</th>\n",
       "    </tr>\n",
       "  </thead>\n",
       "  <tbody>\n",
       "    <tr>\n",
       "      <th>619035</th>\n",
       "      <td>2018-02-01</td>\n",
       "      <td>76.84</td>\n",
       "      <td>78.27</td>\n",
       "      <td>76.69</td>\n",
       "      <td>77.82</td>\n",
       "      <td>2982259</td>\n",
       "      <td>ZTS</td>\n",
       "      <td>2018</td>\n",
       "      <td>2</td>\n",
       "    </tr>\n",
       "    <tr>\n",
       "      <th>619036</th>\n",
       "      <td>2018-02-02</td>\n",
       "      <td>77.53</td>\n",
       "      <td>78.12</td>\n",
       "      <td>76.73</td>\n",
       "      <td>76.78</td>\n",
       "      <td>2595187</td>\n",
       "      <td>ZTS</td>\n",
       "      <td>2018</td>\n",
       "      <td>2</td>\n",
       "    </tr>\n",
       "    <tr>\n",
       "      <th>619037</th>\n",
       "      <td>2018-02-05</td>\n",
       "      <td>76.64</td>\n",
       "      <td>76.92</td>\n",
       "      <td>73.18</td>\n",
       "      <td>73.83</td>\n",
       "      <td>2962031</td>\n",
       "      <td>ZTS</td>\n",
       "      <td>2018</td>\n",
       "      <td>2</td>\n",
       "    </tr>\n",
       "    <tr>\n",
       "      <th>619038</th>\n",
       "      <td>2018-02-06</td>\n",
       "      <td>72.74</td>\n",
       "      <td>74.56</td>\n",
       "      <td>72.13</td>\n",
       "      <td>73.27</td>\n",
       "      <td>4924323</td>\n",
       "      <td>ZTS</td>\n",
       "      <td>2018</td>\n",
       "      <td>2</td>\n",
       "    </tr>\n",
       "    <tr>\n",
       "      <th>619039</th>\n",
       "      <td>2018-02-07</td>\n",
       "      <td>72.7</td>\n",
       "      <td>75</td>\n",
       "      <td>72.69</td>\n",
       "      <td>73.86</td>\n",
       "      <td>4534912</td>\n",
       "      <td>ZTS</td>\n",
       "      <td>2018</td>\n",
       "      <td>2</td>\n",
       "    </tr>\n",
       "  </tbody>\n",
       "</table>\n",
       "</div>"
      ],
      "text/plain": [
       "              date   open   high    low  close   volume Name  year  month\n",
       "619035  2018-02-01  76.84  78.27  76.69  77.82  2982259  ZTS  2018      2\n",
       "619036  2018-02-02  77.53  78.12  76.73  76.78  2595187  ZTS  2018      2\n",
       "619037  2018-02-05  76.64  76.92  73.18  73.83  2962031  ZTS  2018      2\n",
       "619038  2018-02-06  72.74  74.56  72.13  73.27  4924323  ZTS  2018      2\n",
       "619039  2018-02-07   72.7     75  72.69  73.86  4534912  ZTS  2018      2"
      ]
     },
     "execution_count": 12,
     "metadata": {},
     "output_type": "execute_result"
    }
   ],
   "source": [
    "df.tail()"
   ]
  },
  {
   "cell_type": "code",
   "execution_count": 13,
   "metadata": {
    "execution": {
     "iopub.execute_input": "2020-11-29T04:46:17.211537Z",
     "iopub.status.busy": "2020-11-29T04:46:17.210635Z",
     "iopub.status.idle": "2020-11-29T04:46:17.213575Z",
     "shell.execute_reply": "2020-11-29T04:46:17.213021Z"
    },
    "papermill": {
     "duration": 0.031723,
     "end_time": "2020-11-29T04:46:17.213675",
     "exception": false,
     "start_time": "2020-11-29T04:46:17.181952",
     "status": "completed"
    },
    "tags": []
   },
   "outputs": [],
   "source": [
    "#Since the year 2017 is the most recent year with dataset of over 4 months, let's explore that\n",
    "# Creating a ColumnDataSource instance to act as a reusable data source for ploting\n"
   ]
  },
  {
   "cell_type": "code",
   "execution_count": 14,
   "metadata": {
    "execution": {
     "iopub.execute_input": "2020-11-29T04:46:17.308021Z",
     "iopub.status.busy": "2020-11-29T04:46:17.287921Z",
     "iopub.status.idle": "2020-11-29T04:46:17.323345Z",
     "shell.execute_reply": "2020-11-29T04:46:17.324000Z"
    },
    "papermill": {
     "duration": 0.0834,
     "end_time": "2020-11-29T04:46:17.324157",
     "exception": false,
     "start_time": "2020-11-29T04:46:17.240757",
     "status": "completed"
    },
    "tags": []
   },
   "outputs": [
    {
     "data": {
      "text/plain": [
       "array(['AAL', 'AAPL', 'AAP', 'ABBV', 'ABC', 'ABT', 'ACN', 'ADBE', 'ADI',\n",
       "       'ADM', 'ADP', 'ADSK', 'ADS', 'AEE', 'AEP', 'AES', 'AET', 'AFL',\n",
       "       'AGN', 'AIG', 'AIV', 'AIZ', 'AJG', 'AKAM', 'ALB', 'ALGN', 'ALK',\n",
       "       'ALLE', 'ALL', 'ALXN', 'AMAT', 'AMD', 'AME', 'AMGN', 'AMG', 'AMP',\n",
       "       'AMT', 'AMZN', 'ANDV', 'ANSS', 'ANTM', 'AON', 'AOS', 'APA', 'APC',\n",
       "       'APD', 'APH', 'APTV', 'ARE', 'ARNC', 'ATVI', 'AVB', 'AVGO', 'AVY',\n",
       "       'AWK', 'AXP', 'AYI', 'AZO', 'A', 'BAC', 'BAX', 'BA', 'BBT', 'BBY',\n",
       "       'BDX', 'BEN', 'BF.B', 'BHF', 'BHGE', 'BIIB', 'BK', 'BLK', 'BLL',\n",
       "       'BMY', 'BRK.B', 'BSX', 'BWA', 'BXP', 'CAG', 'CAH', 'CAT', 'CA',\n",
       "       'CBG', 'CBOE', 'CBS', 'CB', 'CCI', 'CCL', 'CDNS', 'CELG', 'CERN',\n",
       "       'CFG', 'CF', 'CHD', 'CHK', 'CHRW', 'CHTR', 'CINF', 'CI', 'CLX',\n",
       "       'CL', 'CMA', 'CMCSA', 'CME', 'CMG', 'CMI', 'CMS', 'CNC', 'CNP',\n",
       "       'COF', 'COG', 'COL', 'COO', 'COP', 'COST', 'COTY', 'CPB', 'CRM',\n",
       "       'CSCO', 'CSRA', 'CSX', 'CTAS', 'CTL', 'CTSH', 'CTXS', 'CVS', 'CVX',\n",
       "       'CXO', 'C', 'DAL', 'DE', 'DFS', 'DGX', 'DG', 'DHI', 'DHR', 'DISCA',\n",
       "       'DISCK', 'DISH', 'DIS', 'DLR', 'DLTR', 'DOV', 'DPS', 'DRE', 'DRI',\n",
       "       'DTE', 'DUK', 'DVA', 'DVN', 'DWDP', 'DXC', 'D', 'EA', 'EBAY',\n",
       "       'ECL', 'ED', 'EFX', 'EIX', 'EL', 'EMN', 'EMR', 'EOG', 'EQIX',\n",
       "       'EQR', 'EQT', 'ESRX', 'ESS', 'ES', 'ETFC', 'ETN', 'ETR', 'EVHC',\n",
       "       'EW', 'EXC', 'EXPD', 'EXPE', 'EXR', 'FAST', 'FBHS', 'FB', 'FCX',\n",
       "       'FDX', 'FE', 'FFIV', 'FISV', 'FIS', 'FITB', 'FLIR', 'FLR', 'FLS',\n",
       "       'FL', 'FMC', 'FOXA', 'FOX', 'FRT', 'FTI', 'FTV', 'F', 'GD', 'GE',\n",
       "       'GGP', 'GILD', 'GIS', 'GLW', 'GM', 'GOOGL', 'GOOG', 'GPC', 'GPN',\n",
       "       'GPS', 'GRMN', 'GS', 'GT', 'GWW', 'HAL', 'HAS', 'HBAN', 'HBI',\n",
       "       'HCA', 'HCN', 'HCP', 'HD', 'HES', 'HIG', 'HII', 'HLT', 'HOG',\n",
       "       'HOLX', 'HON', 'HPE', 'HPQ', 'HP', 'HRB', 'HRL', 'HRS', 'HSIC',\n",
       "       'HST', 'HSY', 'HUM', 'IBM', 'ICE', 'IDXX', 'IFF', 'ILMN', 'INCY',\n",
       "       'INFO', 'INTC', 'INTU', 'IPG', 'IP', 'IQV', 'IRM', 'IR', 'ISRG',\n",
       "       'ITW', 'IT', 'IVZ', 'JBHT', 'JCI', 'JEC', 'JNJ', 'JNPR', 'JPM',\n",
       "       'JWN', 'KEY', 'KHC', 'KIM', 'KLAC', 'KMB', 'KMI', 'KMX', 'KORS',\n",
       "       'KO', 'KR', 'KSS', 'KSU', 'K', 'LB', 'LEG', 'LEN', 'LH', 'LKQ',\n",
       "       'LLL', 'LLY', 'LMT', 'LNC', 'LNT', 'LOW', 'LRCX', 'LUK', 'LUV',\n",
       "       'LYB', 'L', 'MAA', 'MAC', 'MAR', 'MAS', 'MAT', 'MA', 'MCD', 'MCHP',\n",
       "       'MCK', 'MCO', 'MDLZ', 'MDT', 'MET', 'MGM', 'MHK', 'MKC', 'MLM',\n",
       "       'MMC', 'MMM', 'MNST', 'MON', 'MOS', 'MO', 'MPC', 'MRK', 'MRO',\n",
       "       'MSFT', 'MSI', 'MS', 'MTB', 'MTD', 'MU', 'MYL', 'M', 'NAVI', 'NBL',\n",
       "       'NCLH', 'NDAQ', 'NEE', 'NEM', 'NFLX', 'NFX', 'NI', 'NKE', 'NLSN',\n",
       "       'NOC', 'NOV', 'NRG', 'NSC', 'NTAP', 'NTRS', 'NUE', 'NVDA', 'NWL',\n",
       "       'NWSA', 'NWS', 'OKE', 'OMC', 'ORCL', 'ORLY', 'OXY', 'O', 'PAYX',\n",
       "       'PBCT', 'PCAR', 'PCG', 'PCLN', 'PDCO', 'PEG', 'PEP', 'PFE', 'PFG',\n",
       "       'PGR', 'PG', 'PHM', 'PH', 'PKG', 'PKI', 'PLD', 'PM', 'PNC', 'PNR',\n",
       "       'PNW', 'PPG', 'PPL', 'PRGO', 'PRU', 'PSA', 'PSX', 'PVH', 'PWR',\n",
       "       'PXD', 'PX', 'PYPL', 'QCOM', 'QRVO', 'RCL', 'REGN', 'REG', 'RE',\n",
       "       'RF', 'RHI', 'RHT', 'RJF', 'RL', 'RMD', 'ROK', 'ROP', 'ROST',\n",
       "       'RRC', 'RSG', 'RTN', 'SBAC', 'SBUX', 'SCG', 'SCHW', 'SEE', 'SHW',\n",
       "       'SIG', 'SJM', 'SLB', 'SLG', 'SNA', 'SNI', 'SNPS', 'SO', 'SPGI',\n",
       "       'SPG', 'SRCL', 'SRE', 'STI', 'STT', 'STX', 'STZ', 'SWKS', 'SWK',\n",
       "       'SYF', 'SYK', 'SYMC', 'SYY', 'TAP', 'TDG', 'TEL', 'TGT', 'TIF',\n",
       "       'TJX', 'TMK', 'TMO', 'TPR', 'TRIP', 'TROW', 'TRV', 'TSCO', 'TSN',\n",
       "       'TSS', 'TWX', 'TXN', 'TXT', 'T', 'UAA', 'UAL', 'UA', 'UDR', 'UHS',\n",
       "       'ULTA', 'UNH', 'UNM', 'UNP', 'UPS', 'URI', 'USB', 'UTX', 'VAR',\n",
       "       'VFC', 'VIAB', 'VLO', 'VMC', 'VNO', 'VRSK', 'VRSN', 'VRTX', 'VTR',\n",
       "       'VZ', 'V', 'WAT', 'WBA', 'WDC', 'WEC', 'WFC', 'WHR', 'WLTW', 'WMB',\n",
       "       'WMT', 'WM', 'WRK', 'WU', 'WYNN', 'WYN', 'WY', 'XEC', 'XEL',\n",
       "       'XLNX', 'XL', 'XOM', 'XRAY', 'XRX', 'XYL', 'YUM', 'ZBH', 'ZION',\n",
       "       'ZTS'], dtype=object)"
      ]
     },
     "execution_count": 14,
     "metadata": {},
     "output_type": "execute_result"
    }
   ],
   "source": [
    "df[\"Name\"].unique()"
   ]
  },
  {
   "cell_type": "code",
   "execution_count": 15,
   "metadata": {
    "execution": {
     "iopub.execute_input": "2020-11-29T04:46:17.455237Z",
     "iopub.status.busy": "2020-11-29T04:46:17.454634Z",
     "iopub.status.idle": "2020-11-29T04:46:17.472968Z",
     "shell.execute_reply": "2020-11-29T04:46:17.472446Z"
    },
    "papermill": {
     "duration": 0.110774,
     "end_time": "2020-11-29T04:46:17.473064",
     "exception": false,
     "start_time": "2020-11-29T04:46:17.362290",
     "status": "completed"
    },
    "tags": []
   },
   "outputs": [
    {
     "data": {
      "text/html": [
       "<div>\n",
       "<style scoped>\n",
       "    .dataframe tbody tr th:only-of-type {\n",
       "        vertical-align: middle;\n",
       "    }\n",
       "\n",
       "    .dataframe tbody tr th {\n",
       "        vertical-align: top;\n",
       "    }\n",
       "\n",
       "    .dataframe thead th {\n",
       "        text-align: right;\n",
       "    }\n",
       "</style>\n",
       "<table border=\"1\" class=\"dataframe\">\n",
       "  <thead>\n",
       "    <tr style=\"text-align: right;\">\n",
       "      <th></th>\n",
       "      <th>date</th>\n",
       "      <th>open</th>\n",
       "      <th>high</th>\n",
       "      <th>low</th>\n",
       "      <th>close</th>\n",
       "      <th>volume</th>\n",
       "      <th>Name</th>\n",
       "      <th>year</th>\n",
       "      <th>month</th>\n",
       "    </tr>\n",
       "  </thead>\n",
       "  <tbody>\n",
       "    <tr>\n",
       "      <th>595716</th>\n",
       "      <td>2013-02-08</td>\n",
       "      <td>71.2</td>\n",
       "      <td>71.64</td>\n",
       "      <td>71.07</td>\n",
       "      <td>71.48</td>\n",
       "      <td>5906823</td>\n",
       "      <td>WMT</td>\n",
       "      <td>2013</td>\n",
       "      <td>2</td>\n",
       "    </tr>\n",
       "    <tr>\n",
       "      <th>595717</th>\n",
       "      <td>2013-02-11</td>\n",
       "      <td>71.25</td>\n",
       "      <td>71.51</td>\n",
       "      <td>70.53</td>\n",
       "      <td>71.4</td>\n",
       "      <td>6202534</td>\n",
       "      <td>WMT</td>\n",
       "      <td>2013</td>\n",
       "      <td>2</td>\n",
       "    </tr>\n",
       "    <tr>\n",
       "      <th>595718</th>\n",
       "      <td>2013-02-12</td>\n",
       "      <td>71.49</td>\n",
       "      <td>71.66</td>\n",
       "      <td>71.1</td>\n",
       "      <td>71.4</td>\n",
       "      <td>4761910</td>\n",
       "      <td>WMT</td>\n",
       "      <td>2013</td>\n",
       "      <td>2</td>\n",
       "    </tr>\n",
       "    <tr>\n",
       "      <th>595719</th>\n",
       "      <td>2013-02-13</td>\n",
       "      <td>71.29</td>\n",
       "      <td>71.7</td>\n",
       "      <td>71.21</td>\n",
       "      <td>71.39</td>\n",
       "      <td>3969807</td>\n",
       "      <td>WMT</td>\n",
       "      <td>2013</td>\n",
       "      <td>2</td>\n",
       "    </tr>\n",
       "    <tr>\n",
       "      <th>595720</th>\n",
       "      <td>2013-02-14</td>\n",
       "      <td>71.1</td>\n",
       "      <td>71.23</td>\n",
       "      <td>70.755</td>\n",
       "      <td>70.82</td>\n",
       "      <td>6820952</td>\n",
       "      <td>WMT</td>\n",
       "      <td>2013</td>\n",
       "      <td>2</td>\n",
       "    </tr>\n",
       "  </tbody>\n",
       "</table>\n",
       "</div>"
      ],
      "text/plain": [
       "              date   open   high     low  close   volume Name  year  month\n",
       "595716  2013-02-08   71.2  71.64   71.07  71.48  5906823  WMT  2013      2\n",
       "595717  2013-02-11  71.25  71.51   70.53   71.4  6202534  WMT  2013      2\n",
       "595718  2013-02-12  71.49  71.66    71.1   71.4  4761910  WMT  2013      2\n",
       "595719  2013-02-13  71.29   71.7   71.21  71.39  3969807  WMT  2013      2\n",
       "595720  2013-02-14   71.1  71.23  70.755  70.82  6820952  WMT  2013      2"
      ]
     },
     "execution_count": 15,
     "metadata": {},
     "output_type": "execute_result"
    }
   ],
   "source": [
    "#We'll focus on one\n",
    "walmart = df.loc[df['Name'] == 'WMT']\n",
    "walmart.head()"
   ]
  },
  {
   "cell_type": "markdown",
   "metadata": {
    "papermill": {
     "duration": 0.025419,
     "end_time": "2020-11-29T04:46:17.524667",
     "exception": false,
     "start_time": "2020-11-29T04:46:17.499248",
     "status": "completed"
    },
    "tags": []
   },
   "source": [
    "We need to make sure if the date column is either a categorical type or a datetype. In our case date is a categorical datatype so we need to change it to datetime."
   ]
  },
  {
   "cell_type": "code",
   "execution_count": 16,
   "metadata": {
    "execution": {
     "iopub.execute_input": "2020-11-29T04:46:17.585845Z",
     "iopub.status.busy": "2020-11-29T04:46:17.584897Z",
     "iopub.status.idle": "2020-11-29T04:46:17.593617Z",
     "shell.execute_reply": "2020-11-29T04:46:17.592963Z"
    },
    "papermill": {
     "duration": 0.042921,
     "end_time": "2020-11-29T04:46:17.593727",
     "exception": false,
     "start_time": "2020-11-29T04:46:17.550806",
     "status": "completed"
    },
    "tags": []
   },
   "outputs": [
    {
     "name": "stdout",
     "output_type": "stream",
     "text": [
      "<class 'pandas.core.frame.DataFrame'>\n",
      "Int64Index: 1259 entries, 595716 to 596974\n",
      "Data columns (total 9 columns):\n",
      " #   Column  Non-Null Count  Dtype \n",
      "---  ------  --------------  ----- \n",
      " 0   date    1259 non-null   object\n",
      " 1   open    1259 non-null   object\n",
      " 2   high    1259 non-null   object\n",
      " 3   low     1259 non-null   object\n",
      " 4   close   1259 non-null   object\n",
      " 5   volume  1259 non-null   object\n",
      " 6   Name    1259 non-null   object\n",
      " 7   year    1259 non-null   int64 \n",
      " 8   month   1259 non-null   int64 \n",
      "dtypes: int64(2), object(7)\n",
      "memory usage: 98.4+ KB\n"
     ]
    }
   ],
   "source": [
    "walmart.info()"
   ]
  },
  {
   "cell_type": "code",
   "execution_count": 17,
   "metadata": {
    "execution": {
     "iopub.execute_input": "2020-11-29T04:46:17.655895Z",
     "iopub.status.busy": "2020-11-29T04:46:17.655250Z",
     "iopub.status.idle": "2020-11-29T04:46:17.658204Z",
     "shell.execute_reply": "2020-11-29T04:46:17.658704Z"
    },
    "papermill": {
     "duration": 0.037946,
     "end_time": "2020-11-29T04:46:17.658827",
     "exception": false,
     "start_time": "2020-11-29T04:46:17.620881",
     "status": "completed"
    },
    "tags": []
   },
   "outputs": [],
   "source": [
    "#Create a copy to avoid the SettingWarning .loc issue \n",
    "walmart_df = walmart.copy()\n",
    "\n",
    "# Change to datetime datatype.\n",
    "walmart_df.loc[:, 'date'] = pd.to_datetime(walmart.loc[:,'date'], format=\"%Y/%m/%d\")"
   ]
  },
  {
   "cell_type": "code",
   "execution_count": 18,
   "metadata": {
    "execution": {
     "iopub.execute_input": "2020-11-29T04:46:17.717988Z",
     "iopub.status.busy": "2020-11-29T04:46:17.717410Z",
     "iopub.status.idle": "2020-11-29T04:46:17.727947Z",
     "shell.execute_reply": "2020-11-29T04:46:17.727309Z"
    },
    "papermill": {
     "duration": 0.042877,
     "end_time": "2020-11-29T04:46:17.728045",
     "exception": false,
     "start_time": "2020-11-29T04:46:17.685168",
     "status": "completed"
    },
    "tags": []
   },
   "outputs": [
    {
     "name": "stdout",
     "output_type": "stream",
     "text": [
      "<class 'pandas.core.frame.DataFrame'>\n",
      "Int64Index: 1259 entries, 595716 to 596974\n",
      "Data columns (total 9 columns):\n",
      " #   Column  Non-Null Count  Dtype         \n",
      "---  ------  --------------  -----         \n",
      " 0   date    1259 non-null   datetime64[ns]\n",
      " 1   open    1259 non-null   object        \n",
      " 2   high    1259 non-null   object        \n",
      " 3   low     1259 non-null   object        \n",
      " 4   close   1259 non-null   object        \n",
      " 5   volume  1259 non-null   object        \n",
      " 6   Name    1259 non-null   object        \n",
      " 7   year    1259 non-null   int64         \n",
      " 8   month   1259 non-null   int64         \n",
      "dtypes: datetime64[ns](1), int64(2), object(6)\n",
      "memory usage: 98.4+ KB\n"
     ]
    }
   ],
   "source": [
    "walmart_df.info()"
   ]
  },
  {
   "cell_type": "code",
   "execution_count": 19,
   "metadata": {
    "execution": {
     "iopub.execute_input": "2020-11-29T04:46:17.793912Z",
     "iopub.status.busy": "2020-11-29T04:46:17.793279Z",
     "iopub.status.idle": "2020-11-29T04:46:18.130297Z",
     "shell.execute_reply": "2020-11-29T04:46:18.129554Z"
    },
    "papermill": {
     "duration": 0.375074,
     "end_time": "2020-11-29T04:46:18.130466",
     "exception": false,
     "start_time": "2020-11-29T04:46:17.755392",
     "status": "completed"
    },
    "tags": []
   },
   "outputs": [
    {
     "data": {
      "image/png": "[encoded data removed]",
      "text/plain": [
       "<Figure size 1080x360 with 2 Axes>"
      ]
     },
     "metadata": {
      "needs_background": "light"
     },
     "output_type": "display_data"
    }
   ],
   "source": [
    "# Let us plot Walmart Stock Price\n",
    "# First Subplot\n",
    "\n",
    "f, (ax1, ax2) = plt.subplots(1, 2, figsize=(15,5))\n",
    "ax1.plot(walmart_df[\"date\"], walmart_df[\"close\"], color=\"yellow\")\n",
    "ax1.set_xlabel(\"Date\", fontsize=12)\n",
    "ax1.set_ylabel(\"Stock Price\")\n",
    "ax1.set_title(\"Walmart Close Price History\")\n",
    "\n",
    "# Second Subplot\n",
    "ax1.plot(walmart_df[\"date\"], walmart_df[\"high\"], color=\"green\")\n",
    "ax1.set_xlabel(\"Date\", fontsize=12)\n",
    "ax1.set_ylabel(\"Stock Price\")\n",
    "ax1.set_title(\"Walmart High Price History\")\n",
    "\n",
    "# Third Subplot\n",
    "ax1.plot(walmart_df[\"date\"], walmart_df[\"low\"], color=\"red\")\n",
    "ax1.set_xlabel(\"Date\", fontsize=12)\n",
    "ax1.set_ylabel(\"Stock Price\")\n",
    "ax1.set_title(\"Walmart Low Price History\")\n",
    "\n",
    "# Fourth Subplot\n",
    "ax2.plot(walmart_df[\"date\"], walmart_df[\"volume\"], color=\"blue\")\n",
    "ax2.set_xlabel(\"Date\", fontsize=12)\n",
    "ax2.set_ylabel(\"Stock Price\")\n",
    "ax2.set_title(\"Walmart's Volume History\")\n",
    "\n",
    "plt.show()"
   ]
  },
  {
   "cell_type": "code",
   "execution_count": 20,
   "metadata": {
    "execution": {
     "iopub.execute_input": "2020-11-29T04:46:18.197325Z",
     "iopub.status.busy": "2020-11-29T04:46:18.196580Z",
     "iopub.status.idle": "2020-11-29T04:46:18.201331Z",
     "shell.execute_reply": "2020-11-29T04:46:18.200476Z"
    },
    "papermill": {
     "duration": 0.041582,
     "end_time": "2020-11-29T04:46:18.201494",
     "exception": false,
     "start_time": "2020-11-29T04:46:18.159912",
     "status": "completed"
    },
    "tags": []
   },
   "outputs": [],
   "source": [
    "# Input data files are available in the \"../input/\" directory.\n",
    "# For example, running this (by clicking run or pressing Shift+Enter) will list the files in the input directory\n",
    "\n",
    "def prepare_data(df,forecast_col,forecast_out,test_size):\n",
    "    label = df[forecast_col].shift(-forecast_out);#creating new column called label with the last 5 rows are nan\n",
    "    X = np.array(df[[forecast_col]]); #creating the feature array\n",
    "    X = preprocessing.scale(X) #processing the feature array\n",
    "    X_lately = X[-forecast_out:] #creating the column i want to use later in the predicting method\n",
    "    X = X[:-forecast_out] # X that will contain the training and testing\n",
    "    label.dropna(inplace=True); #dropping na values\n",
    "    y = np.array(label)  # assigning Y\n",
    "    X_train, X_test, Y_train, Y_test = train_test_split(X, y, test_size=test_size) #cross validation \n",
    "\n",
    "    response = [X_train,X_test , Y_train, Y_test , X_lately];\n",
    "    return response;"
   ]
  },
  {
   "cell_type": "code",
   "execution_count": 21,
   "metadata": {
    "execution": {
     "iopub.execute_input": "2020-11-29T04:46:18.301705Z",
     "iopub.status.busy": "2020-11-29T04:46:18.300140Z",
     "iopub.status.idle": "2020-11-29T04:46:18.351402Z",
     "shell.execute_reply": "2020-11-29T04:46:18.352123Z"
    },
    "papermill": {
     "duration": 0.107163,
     "end_time": "2020-11-29T04:46:18.352321",
     "exception": false,
     "start_time": "2020-11-29T04:46:18.245158",
     "status": "completed"
    },
    "tags": []
   },
   "outputs": [
    {
     "name": "stdout",
     "output_type": "stream",
     "text": [
      "{'test_score': 0.4632540709249048, 'forecast_set': array([ 96.40680233,  96.54721376,  97.28671393,  96.9778088 ,\n",
      "        97.09013794,  96.77187204,  97.5394545 ,  97.0246126 ,\n",
      "        96.55657452,  96.341277  ,  96.69698594,  96.48168842,\n",
      "        97.47392917,  96.88420118,  96.86547966,  97.60497983,\n",
      "        98.44744839,  98.40064458,  97.75475202,  97.89516345,\n",
      "        98.78443581,  98.87804343,  99.00909409,  98.40064458,\n",
      "        98.25087239,  99.0558979 ,  99.14014476,  99.6924297 ,\n",
      "       101.07782244,  99.9358095 ,  99.26183466,  99.58946132,\n",
      "       100.38512607, 100.21663236, 102.09814547, 103.59586734,\n",
      "       103.86732943, 104.67235494, 105.09358922, 104.99062084,\n",
      "       105.74884254, 107.42441889, 108.51026726, 106.80660862,\n",
      "       105.74884254, 104.73788028, 103.76436106,  99.65498665,\n",
      "       100.41320835, 102.23855689])}\n"
     ]
    }
   ],
   "source": [
    "forecast_col = 'close'#choosing which column to forecast\n",
    "forecast_out = 50 #how far to forecast \n",
    "test_size = 0.2; #the size of my test set\n",
    "\n",
    "X_train, X_test, Y_train, Y_test , X_lately =prepare_data(walmart_df,forecast_col,forecast_out,test_size); #calling the method were the cross validation and data preperation is in\n",
    "\n",
    "learner = linear_model.LinearRegression(); #initializing linear regression model\n",
    "learner.fit(X_train,Y_train); #training the linear regression model\n",
    "\n",
    "score=learner.score(X_test,Y_test);#testing the linear regression model\n",
    "forecast= learner.predict(X_lately); #set that will contain the forecasted data\n",
    "\n",
    "response={};#creting json object\n",
    "response['test_score']=score; \n",
    "response['forecast_set']=forecast;\n",
    "\n",
    "print(response);"
   ]
  },
  {
   "cell_type": "code",
   "execution_count": 22,
   "metadata": {
    "execution": {
     "iopub.execute_input": "2020-11-29T04:46:18.438155Z",
     "iopub.status.busy": "2020-11-29T04:46:18.437519Z",
     "iopub.status.idle": "2020-11-29T04:46:18.748731Z",
     "shell.execute_reply": "2020-11-29T04:46:18.749426Z"
    },
    "papermill": {
     "duration": 0.367003,
     "end_time": "2020-11-29T04:46:18.749597",
     "exception": false,
     "start_time": "2020-11-29T04:46:18.382594",
     "status": "completed"
    },
    "tags": []
   },
   "outputs": [
    {
     "data": {
      "text/plain": [
       "Text(0.5, 1.0, 'Walmart actual Close Price')"
      ]
     },
     "execution_count": 22,
     "metadata": {},
     "output_type": "execute_result"
    },
    {
     "data": {
      "image/png": "[encoded data removed]",
      "text/plain": [
       "<Figure size 1080x360 with 2 Axes>"
      ]
     },
     "metadata": {
      "needs_background": "light"
     },
     "output_type": "display_data"
    }
   ],
   "source": [
    "f, (ax1, ax2) = plt.subplots(1, 2, figsize=(15,5))\n",
    "ax1.plot(X_lately, forecast, color=\"yellow\")\n",
    "ax1.set_xlabel(\"Date\", fontsize=12)\n",
    "ax1.set_ylabel(\"Stock Price\")\n",
    "ax1.set_title(\"Walmart Close Price Predicted\")\n",
    "\n",
    "ax2.scatter(X_test, Y_test, color=\"green\")\n",
    "ax2.set_xlabel(\"day\", fontsize=12)\n",
    "ax2.set_ylabel(\"Stock Price\")\n",
    "ax2.set_title(\"Walmart actual Close Price\")\n",
    "\n"
   ]
  },
  {
   "cell_type": "code",
   "execution_count": 23,
   "metadata": {
    "execution": {
     "iopub.execute_input": "2020-11-29T04:46:18.846021Z",
     "iopub.status.busy": "2020-11-29T04:46:18.845302Z",
     "iopub.status.idle": "2020-11-29T04:46:18.849673Z",
     "shell.execute_reply": "2020-11-29T04:46:18.848627Z"
    },
    "papermill": {
     "duration": 0.05419,
     "end_time": "2020-11-29T04:46:18.849766",
     "exception": false,
     "start_time": "2020-11-29T04:46:18.795576",
     "status": "completed"
    },
    "tags": []
   },
   "outputs": [
    {
     "data": {
      "text/plain": [
       "0.4632540709249048"
      ]
     },
     "execution_count": 23,
     "metadata": {},
     "output_type": "execute_result"
    }
   ],
   "source": [
    "score"
   ]
  },
  {
   "cell_type": "code",
   "execution_count": null,
   "metadata": {
    "papermill": {
     "duration": 0.030997,
     "end_time": "2020-11-29T04:46:18.911912",
     "exception": false,
     "start_time": "2020-11-29T04:46:18.880915",
     "status": "completed"
    },
    "tags": []
   },
   "outputs": [],
   "source": []
  }
 ],
 "metadata": {
  "kernelspec": {
   "display_name": "Python 3",
   "language": "python",
   "name": "python3"
  },
  "language_info": {
   "codemirror_mode": {
    "name": "ipython",
    "version": 3
   },
   "file_extension": ".py",
   "mimetype": "text/x-python",
   "name": "python",
   "nbconvert_exporter": "python",
   "pygments_lexer": "ipython3",
   "version": "3.7.6"
  },
  "papermill": {
   "duration": 129.72555,
   "end_time": "2020-11-29T04:46:19.052345",
   "environment_variables": {},
   "exception": null,
   "input_path": "__notebook__.ipynb",
   "output_path": "__notebook__.ipynb",
   "parameters": {},
   "start_time": "2020-11-29T04:44:09.326795",
   "version": "2.1.0"
  }
 },
 "nbformat": 4,
 "nbformat_minor": 4
}
